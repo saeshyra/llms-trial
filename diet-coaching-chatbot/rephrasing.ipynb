{
 "cells": [
  {
   "cell_type": "markdown",
   "metadata": {},
   "source": [
    "# Rephrasing Experiments"
   ]
  },
  {
   "cell_type": "markdown",
   "metadata": {},
   "source": [
    "## Setup"
   ]
  },
  {
   "cell_type": "code",
   "execution_count": 1,
   "metadata": {},
   "outputs": [],
   "source": [
    "# %pip install torch\n",
    "# %pip install peft\n",
    "# %pip install bitsandbytes"
   ]
  },
  {
   "cell_type": "code",
   "execution_count": 2,
   "metadata": {},
   "outputs": [
    {
     "data": {
      "text/plain": [
       "device(type='cpu')"
      ]
     },
     "execution_count": 2,
     "metadata": {},
     "output_type": "execute_result"
    }
   ],
   "source": [
    "import torch\n",
    "from transformers import AutoModelForCausalLM, AutoTokenizer, BitsAndBytesConfig\n",
    "from peft import PeftConfig, PeftModel\n",
    "\n",
    "device = torch.device('cuda') if torch.cuda.is_available() else torch.device('cpu')\n",
    "# device = torch.device('cpu')\n",
    "device"
   ]
  },
  {
   "cell_type": "code",
   "execution_count": 3,
   "metadata": {},
   "outputs": [],
   "source": [
    "bnb_config = BitsAndBytesConfig(\n",
    "   load_in_4bit=True,\n",
    "   bnb_4bit_quant_type=\"nf4\",\n",
    "   # bnb_4bit_use_double_quant=True,\n",
    "   bnb_4bit_compute_dtype=torch.bfloat16\n",
    ")"
   ]
  },
  {
   "cell_type": "code",
   "execution_count": 4,
   "metadata": {},
   "outputs": [],
   "source": [
    "messages = [\n",
    "'''I'm checking your data: \n",
    " \n",
    " - from Apr 27 2024 \n",
    " \n",
    " and getting the insights... 🔎''',\n",
    "'''I'm checking your data: \n",
    " \n",
    " - from Apr 22 2024 to Apr 28 2024 \n",
    " \n",
    " and getting the insights... 🔎''',\n",
    "'''I'm analysing your data: \n",
    " \n",
    " - from Mar 01 2024 to Mar 31 2024 \n",
    " - and from Apr 01 2024 to Apr 30 2024 \n",
    " \n",
    " and checking what changed... 🔎''',\n",
    "'''Your diary looks empty for this period 🤔''',\n",
    "'''come back when you put some data in your diary ☺️''',\n",
    "'''Ok, let me analyse your data some more... 🔎''',\n",
    "'''Okay, will be back soon with more info... 🔎''',\n",
    "'''(Advanced analysis requires time, I'll be back when I'm done...)''',\n",
    "'''(This may take some time, I'll send you a message when it's done...)''',\n",
    "'''⚠ WARNING:  you're comparing two periods with different lenghts. The comparison might be unsafe.''',\n",
    "'''Some days at the beginning and/or end are missing. 🧐 \n",
    " \n",
    " I removed these for you: \n",
    " - Mar 01 - Mar 05''',\n",
    "'''⚠ FOOD: In the chart below you can see how different foods contributes to your intake:''',\n",
    "'''⚠ TREND: you should get more carbohydrates, but you're slightly decreasing it .\n",
    " It would be better to revert this. 🧐 ''',\n",
    "'''⚠ CONSISTENCY: Your daily intake seems pretty variable: try to eat similar amounts every day. 🧐''',\n",
    "'''✅ TREND: you should get more sodium, in fact you're lightly increasing it .\n",
    " This is the right way to go. ☺️ \n",
    " \n",
    " ⚠ CONSISTENCY: I see high variability in your daily intake: you should try to avoid changing it so often 🧐''',\n",
    "'''⚠ TREND: you should keep your actual energy intake, instead you're slightly decreasing it .\n",
    " This is ok for now but better stabilise it to preserve this result 🤔 \n",
    " 📈 PROGRESS: The trend is about the same as before 🤔 \n",
    " \n",
    " ✅ CONSISTENCY: Your daily intake looks regular, good job! 😁 \n",
    " 📈 PROGRESS: The consistency didn't really change 🤔''',\n",
    "'''🍖 PROTEIN 🍖 \n",
    " \n",
    " ⚠ ON AVERAGE: You had 83% (17% deficit). It should be more, we'll have to work on it. 🧐\n",
    " \n",
    " \n",
    " ⚠ TOUGHEST DAY: April 28, your intake was 52% (48% missing). It's not enough, we have to address this. 🧐''',\n",
    "'''🍬 SUGAR 🍬 \n",
    " \n",
    " ⚠ ON AVERAGE: You got 55% (45% missing). You need to increase it, we have to address this. 🤔\n",
    " \n",
    " \n",
    " ⚠ TOUGHEST DAY: April 26, your intake was 32% (68% missing). It's not enough, we have to address this. 🤔''',\n",
    "'''🔥 ENERGY 🔥 \n",
    " \n",
    " ✅ ON AVERAGE: I see a good balance in your energy intake. Well done! 😃 \n",
    " 📈 PROGRESS: The average energy intake is about the same as before 🧐 \n",
    " \n",
    " ⚠ TOUGHEST DAY: April 17, your intake was 51% (49% missing). It's not enough, we have to address this. 🧐\n",
    " 📈 PROGRESS: The intake for most off-plan day is about the same as before 🧐''',\n",
    "]"
   ]
  },
  {
   "cell_type": "code",
   "execution_count": 27,
   "metadata": {},
   "outputs": [],
   "source": [
    "REPHRASING_PROMPT = \"Rephrase the following message to the user, keeping any mentioned dates. Do not introduce new dates or assume time periods. Do not add extra information. Use emojis.\""
   ]
  },
  {
   "cell_type": "code",
   "execution_count": 6,
   "metadata": {},
   "outputs": [],
   "source": [
    "def generate_output(messages, model, tokenizer):\n",
    "    for message in messages:\n",
    "        print('input:', message)\n",
    "        context = [\n",
    "            {\"role\": \"system\", \"content\": REPHRASING_PROMPT},\n",
    "            {\"role\": \"user\", \"content\": message},\n",
    "        ]\n",
    "\n",
    "        input_ids = tokenizer.apply_chat_template(\n",
    "            context,\n",
    "            add_generation_prompt=True,\n",
    "            return_tensors=\"pt\"\n",
    "        ).to(model.device)\n",
    "\n",
    "        terminators = [\n",
    "            tokenizer.eos_token_id,\n",
    "            tokenizer.convert_tokens_to_ids(\"<|eot_id|>\")\n",
    "        ]\n",
    "\n",
    "        outputs = model.generate(\n",
    "            input_ids,\n",
    "            max_new_tokens=256,\n",
    "            pad_token_id=tokenizer.pad_token_id,\n",
    "            eos_token_id=terminators,\n",
    "            do_sample=True,\n",
    "            temperature=0.6,\n",
    "            top_p=0.9,\n",
    "        )\n",
    "        response = outputs[0][input_ids.shape[-1]:]\n",
    "        print('output:', tokenizer.decode(response, skip_special_tokens=True))\n",
    "        \n",
    "        print()"
   ]
  },
  {
   "cell_type": "code",
   "execution_count": 7,
   "metadata": {},
   "outputs": [],
   "source": [
    "import requests\n",
    "import json\n",
    "\n",
    "def generate_ollama_output(model, message):\n",
    "    print('input:', message)\n",
    "\n",
    "    url = 'http://localhost:11434/api/generate'\n",
    "    payload = {\n",
    "        \"model\": model,\n",
    "        \"system\": REPHRASING_PROMPT,\n",
    "        \"prompt\": message,\n",
    "        \"options\": {\n",
    "            \"temperature\": 0.6\n",
    "        },\n",
    "        \"stream\": False\n",
    "    }\n",
    "    payload_json = json.dumps(payload, ensure_ascii=False)\n",
    "    headers = {'Content-Type': 'application/json'}\n",
    "    response = requests.post(url, data=payload_json.encode('utf-8'), headers=headers)\n",
    "\n",
    "    # Check if the request was successful (status code 200)\n",
    "    if response.status_code == 200:\n",
    "        output = json.loads(response.content.decode('utf-8'))['response']\n",
    "        print('output:', output)\n",
    "        print()\n",
    "    else:\n",
    "        print(\"Error in rephrasing request:\", response.status_code, 'response:', response.content.decode('utf-8'))"
   ]
  },
  {
   "cell_type": "code",
   "execution_count": 8,
   "metadata": {},
   "outputs": [
    {
     "name": "stdout",
     "output_type": "stream",
     "text": [
      "llama3 loaded into memory: {\"model\":\"llama3\",\"created_at\":\"2025-05-16T08:53:16.653140204Z\",\"response\":\"\",\"done\":true,\"done_reason\":\"load\"}\n"
     ]
    }
   ],
   "source": [
    "url = 'http://localhost:11434/api/generate'\n",
    "payload_json = json.dumps({\"model\": \"llama3\"})\n",
    "headers = {'Content-Type': 'application/json'}\n",
    "response = requests.post(url, data=payload_json.encode('utf-8'), headers=headers)\n",
    "\n",
    "# Check if the request was successful (status code 200)\n",
    "if response.status_code == 200:\n",
    "    print('llama3 loaded into memory:', response.content.decode('utf-8'))\n",
    "else:\n",
    "    print(\"Error in rephrasing request:\", response.status_code, 'response:', response.content.decode('utf-8'))"
   ]
  },
  {
   "cell_type": "markdown",
   "metadata": {},
   "source": [
    "## Llama 3"
   ]
  },
  {
   "cell_type": "code",
   "execution_count": null,
   "metadata": {},
   "outputs": [],
   "source": [
    "MODEL_ID = \"meta-llama/Meta-Llama-3-8B-Instruct\"\n",
    "tokenizer = AutoTokenizer.from_pretrained(MODEL_ID)\n",
    "tokenizer.pad_token = tokenizer.eos_token"
   ]
  },
  {
   "cell_type": "markdown",
   "metadata": {},
   "source": [
    "### Full model"
   ]
  },
  {
   "cell_type": "code",
   "execution_count": null,
   "metadata": {},
   "outputs": [],
   "source": [
    "model = AutoModelForCausalLM.from_pretrained(\n",
    "    MODEL_ID,\n",
    "    device_map=\"auto\",\n",
    "    torch_dtype=torch.bfloat16)"
   ]
  },
  {
   "cell_type": "code",
   "execution_count": null,
   "metadata": {},
   "outputs": [
    {
     "name": "stdout",
     "output_type": "stream",
     "text": [
      "input: I'm checking your data: \n",
      " \n",
      " - from Apr 27 2024 \n",
      " \n",
      " and getting the insights... 🔎\n",
      "output: 📊 I'm analyzing your data from April 27, 2024... 🔎\n",
      "\n",
      "input: I'm checking your data: \n",
      " \n",
      " - from Apr 22 2024 to Apr 28 2024 \n",
      " \n",
      " and getting the insights... 🔎\n",
      "output: 📊 I'm analyzing your data from Apr 22 2024 to Apr 28 2024... 🔎\n",
      "\n",
      "input: I'm analysing your data: \n",
      " \n",
      " - from Mar 01 2024 to Mar 31 2024 \n",
      " - and from Apr 01 2024 to Apr 30 2024 \n",
      " \n",
      " and checking what changed... 🔎\n",
      "output: 📊 I'm reviewing your data from March 1st, 2024 to March 31st, 2024 and from April 1st, 2024 to April 30th, 2024. 🔎\n",
      "\n",
      "input: Your diary looks empty for this period 🤔\n",
      "output: 📅 Your diary looks empty for this period 🤔\n",
      "\n",
      "input: come back when you put some data in your diary ☺️\n",
      "output: Come back when you fill in your diary 📅☺️\n",
      "\n",
      "input: Ok, let me analyse your data some more... 🔎\n",
      "output: 🔍 I'm taking a closer look at your data... 🔎\n",
      "\n",
      "input: Okay, will be back soon with more info... 🔎\n",
      "output: 👋 I'll be back soon with more info... 🔎\n",
      "\n",
      "input: (Advanced analysis requires time, I'll be back when I'm done...)\n",
      "output: 🕰️ I'm crunching some numbers... I'll be back when I'm done! 📊\n",
      "\n",
      "input: (This may take some time, I'll send you a message when it's done...)\n",
      "output: 🕒️ Working on it... I'll send you a message when it's complete! 📱\n",
      "\n",
      "input: ⚠ WARNING:  you're comparing two periods with different lenghts. The comparison might be unsafe.\n",
      "output: ⚠️ Warning: Be cautious when comparing periods of different lengths!\n",
      "\n",
      "input: Some days at the beginning and/or end are missing. 🧐 \n",
      " \n",
      " I removed these for you: \n",
      " - Mar 01 - Mar 05\n",
      "output: 📅 Some days are missing at the beginning and/or end. 🧐\n",
      "\n",
      "input: ⚠ FOOD: In the chart below you can see how different foods contributes to your intake:\n",
      "output: 🍴 FOOD: Check out the chart below to see how various foods impact your diet:\n",
      "\n",
      "input: ⚠ TREND: you should get more carbohydrates, but you're slightly decreasing it .\n",
      " It would be better to revert this. 🧐 \n",
      "output: 🚨 Reminder: You're decreasing your carbohydrate intake, but it's recommended to increase it instead! 🍞\n",
      "\n",
      "input: ⚠ CONSISTENCY: Your daily intake seems pretty variable: try to eat similar amounts every day. 🧐\n",
      "output: 📊 Reminder: Try to eat similar amounts every day! 🍴\n",
      "\n",
      "input: ✅ TREND: you should get more sodium, in fact you're lightly increasing it .\n",
      " This is the right way to go. ☺️ \n",
      " \n",
      " ⚠ CONSISTENCY: I see high variability in your daily intake: you should try to avoid changing it so often 🧐\n",
      "output: ✅ Good job increasing your sodium intake! 👍\n",
      "\n",
      "⚠️ Remember to keep your daily intake consistent, though - try not to make too many changes! 🤔\n",
      "\n",
      "input: ⚠ TREND: you should keep your actual energy intake, instead you're slightly decreasing it .\n",
      " This is ok for now but better stabilise it to preserve this result 🤔 \n",
      " 📈 PROGRESS: The trend is about the same as before 🤔 \n",
      " \n",
      " ✅ CONSISTENCY: Your daily intake looks regular, good job! 😁 \n",
      " 📈 PROGRESS: The consistency didn't really change 🤔\n",
      "output: ⚠️ Trend: Your energy intake is slightly decreasing, but it's okay for now. Try to stabilize it to keep the result! 🤔\n",
      "📈 Progress: The trend remains the same as before 🤔\n",
      "✅ Consistency: Your daily intake is regular, great job! 😁\n",
      "📈 Progress: The consistency remains the same 🤔\n",
      "\n",
      "input: 🍖 PROTEIN 🍖 \n",
      " \n",
      " ⚠ ON AVERAGE: You had 83% (17% deficit). It should be more, we'll have to work on it. 🧐\n",
      " \n",
      " \n",
      " ⚠ TOUGHEST DAY: April 28, your intake was 52% (48% missing). It's not enough, we have to address this. 🧐\n",
      "output: 🍖 PROTEIN 🍖\n",
      "\n",
      "⚠️ Attention! 👀\n",
      "Your average protein intake is 17% below target, and we need to improve it. 💪\n",
      "On April 28, it was particularly challenging, with only 52% of your daily target met. Let's work on boosting that number! 💪\n",
      "\n",
      "input: 🍬 SUGAR 🍬 \n",
      " \n",
      " ⚠ ON AVERAGE: You got 55% (45% missing). You need to increase it, we have to address this. 🤔\n",
      " \n",
      " \n",
      " ⚠ TOUGHEST DAY: April 26, your intake was 32% (68% missing). It's not enough, we have to address this. 🤔\n",
      "output: 🍬 SUGAR 🍬\n",
      "\n",
      "⚠️ Average sugar intake: 55% (45% missing) 🤔\n",
      "⚠️ Toughest day: April 26, 32% (68% missing) 🤔\n",
      "\n",
      "input: 🔥 ENERGY 🔥 \n",
      " \n",
      " ✅ ON AVERAGE: I see a good balance in your energy intake. Well done! 😃 \n",
      " 📈 PROGRESS: The average energy intake is about the same as before 🧐 \n",
      " \n",
      " ⚠ TOUGHEST DAY: April 17, your intake was 51% (49% missing). It's not enough, we have to address this. 🧐\n",
      " 📈 PROGRESS: The intake for most off-plan day is about the same as before 🧐\n",
      "output: 🔥 ENERGY 🔥\n",
      "\n",
      "👍 Good job maintaining a balanced energy intake! 😃\n",
      "\n",
      "📈 Your energy intake has remained consistent since before.\n",
      "\n",
      "⚠️ Be aware that on April 17, your intake was only 51% of what was needed. Let's work on improving that! 🧐\n",
      "\n"
     ]
    }
   ],
   "source": [
    "generate_output(messages, model, tokenizer) # 9:20"
   ]
  },
  {
   "cell_type": "markdown",
   "metadata": {},
   "source": [
    "### 4-bit Model"
   ]
  },
  {
   "cell_type": "code",
   "execution_count": null,
   "metadata": {},
   "outputs": [
    {
     "name": "stderr",
     "output_type": "stream",
     "text": [
      "`low_cpu_mem_usage` was None, now set to True since model is quantized.\n",
      "Loading checkpoint shards: 100%|██████████| 4/4 [00:29<00:00,  7.33s/it]\n"
     ]
    }
   ],
   "source": [
    "model = AutoModelForCausalLM.from_pretrained(\n",
    "    MODEL_ID,\n",
    "    quantization_config=bnb_config\n",
    ")"
   ]
  },
  {
   "cell_type": "code",
   "execution_count": null,
   "metadata": {},
   "outputs": [],
   "source": [
    "                #     print('input:', output)\n",
    "                #     context = [\n",
    "                #         {\"role\": \"system\", \"content\": REPHRASING_PROMPT},\n",
    "                #         {\"role\": \"user\", \"content\": output},\n",
    "                #     ]\n",
    "\n",
    "                #     input_ids = rephrasing_tokenizer.apply_chat_template(\n",
    "                #         context,\n",
    "                #         add_generation_prompt=True,\n",
    "                #         return_tensors=\"pt\"\n",
    "                #     ).to(rephrasing_model.device)\n",
    "\n",
    "                #     terminators = [\n",
    "                #         rephrasing_tokenizer.eos_token_id,\n",
    "                #         rephrasing_tokenizer.convert_tokens_to_ids(\"<|eot_id|>\")\n",
    "                #     ]\n",
    "\n",
    "                #     outputs = rephrasing_model.generate(\n",
    "                #         input_ids,\n",
    "                #         max_new_tokens=256,\n",
    "                #         eos_token_id=terminators,\n",
    "                #         do_sample=True,\n",
    "                #         temperature=0.6,\n",
    "                #         top_p=0.9,\n",
    "                #     )\n",
    "                #     response = outputs[0][input_ids.shape[-1]:]\n",
    "                #     output = rephrasing_tokenizer.decode(response, skip_special_tokens=True)\n",
    "\n",
    "                #     # use message in quotes if quotes present\n",
    "                #     if '\"' in output:\n",
    "                #         open_quote_pos = output.index('\"')\n",
    "                #         if '\"' in output[open_quote_pos:]:\n",
    "                #             end_quote_pos = output[open_quote_pos:].index('\"')\n",
    "                #             output = output[open_quote_pos:end_quote_pos]\n",
    "\n",
    "                #     print('output:', output)"
   ]
  },
  {
   "cell_type": "code",
   "execution_count": null,
   "metadata": {},
   "outputs": [
    {
     "name": "stdout",
     "output_type": "stream",
     "text": [
      "input: I'm checking your data: \n",
      " \n",
      " - from Apr 27 2024 \n",
      " \n",
      " and getting the insights... 🔎\n",
      "output: 🔎 I'm analyzing your data from April 27, 2024...\n",
      "\n",
      "input: I'm checking your data: \n",
      " \n",
      " - from Apr 22 2024 to Apr 28 2024 \n",
      " \n",
      " and getting the insights... 🔎\n",
      "output: 🔎 I'm analyzing your data from April 22, 2024 to April 28, 2024...\n",
      "\n",
      "input: I'm analysing your data: \n",
      " \n",
      " - from Mar 01 2024 to Mar 31 2024 \n",
      " - and from Apr 01 2024 to Apr 30 2024 \n",
      " \n",
      " and checking what changed... 🔎\n",
      "output: 📊 I'm reviewing your data from March 1st, 2024 to March 31st, 2024 and April 1st, 2024 to April 30th, 2024. 🔎\n",
      "\n",
      "input: Your diary looks empty for this period 🤔\n",
      "output: Your diary looks empty for now 🤔\n",
      "\n",
      "input: come back when you put some data in your diary ☺️\n",
      "output: 📆 Come back when you've filled in your diary! ☺️\n",
      "\n",
      "input: Ok, let me analyse your data some more... 🔎\n",
      "output: 🔍 I'm still reviewing your information...\n",
      "\n",
      "input: Okay, will be back soon with more info... 🔎\n",
      "output: 👋 See you soon! 🔎\n",
      "\n",
      "input: (Advanced analysis requires time, I'll be back when I'm done...)\n",
      "output: \"🕒️ I'm crunching some numbers, I'll be back when my advanced analysis is complete... 👋\"\n",
      "\n",
      "input: (This may take some time, I'll send you a message when it's done...)\n",
      "output: 📱 \"Your request is being processed. I'll send you a message when it's complete...\"\n",
      "\n",
      "input: ⚠ WARNING:  you're comparing two periods with different lenghts. The comparison might be unsafe.\n",
      "output: 🚨 Warning: Be careful when comparing periods of different lengths! ⚠\n",
      "\n",
      "input: Some days at the beginning and/or end are missing. 🧐 \n",
      " \n",
      " I removed these for you: \n",
      " - Mar 01 - Mar 05\n",
      "output: Some days at the beginning and/or end are missing. 🧐\n",
      "\n",
      "input: ⚠ FOOD: In the chart below you can see how different foods contributes to your intake:\n",
      "output: 🍔🍟 Did you know that the chart below shows how different foods impact your daily intake?\n",
      "\n",
      "input: ⚠ TREND: you should get more carbohydrates, but you're slightly decreasing it .\n",
      " It would be better to revert this. 🧐 \n",
      "output: ⚠️ Reminder: you're reducing your carbohydrate intake, but it's recommended to increase it instead. 🧐\n",
      "\n",
      "input: ⚠ CONSISTENCY: Your daily intake seems pretty variable: try to eat similar amounts every day. 🧐\n",
      "output: 🚨 Reminder: Try to maintain a consistent daily food intake, same as before ⏰.\n",
      "\n",
      "input: ✅ TREND: you should get more sodium, in fact you're lightly increasing it .\n",
      " This is the right way to go. ☺️ \n",
      " \n",
      " ⚠ CONSISTENCY: I see high variability in your daily intake: you should try to avoid changing it so often 🧐\n",
      "output: 👀 Trend Alert: Good job on increasing your sodium intake! 🎉\n",
      "\n",
      "🚨 Consistency Check: Let's work on stabilizing your daily sodium intake to avoid frequent changes. 😊\n",
      "\n",
      "input: ⚠ TREND: you should keep your actual energy intake, instead you're slightly decreasing it .\n",
      " This is ok for now but better stabilise it to preserve this result 🤔 \n",
      " 📈 PROGRESS: The trend is about the same as before 🤔 \n",
      " \n",
      " ✅ CONSISTENCY: Your daily intake looks regular, good job! 😁 \n",
      " 📈 PROGRESS: The consistency didn't really change 🤔\n",
      "output: 🤔 Trend Alert: 👀 You're slightly decreasing your energy intake, but it's okay for now. Let's stabilize it to keep the results! 📈\n",
      "\n",
      "📊 Progress Report: The trend is steady, just like before 🤔\n",
      "\n",
      "🎉 Consistency Champion: Your daily intake is looking regular and good job! 😁\n",
      "\n",
      "🤔 Progress Update: The consistency hasn't changed much 📈\n",
      "\n",
      "input: 🍖 PROTEIN 🍖 \n",
      " \n",
      " ⚠ ON AVERAGE: You had 83% (17% deficit). It should be more, we'll have to work on it. 🧐\n",
      " \n",
      " \n",
      " ⚠ TOUGHEST DAY: April 28, your intake was 52% (48% missing). It's not enough, we have to address this. 🧐\n",
      "output: 🍖 PROTEIN 🍖\n",
      "\n",
      "⚠️ Attention! 👀\n",
      "\n",
      "You had an average protein intake of 83% below your target, which is a 17% deficit. 🤕 We need to work on this! 💪\n",
      "\n",
      "And, on April 28, your protein intake was particularly low, at only 52% of your target. This is a 48% shortfall. 🚨 We need to address this! 💪\n",
      "\n",
      "input: 🍬 SUGAR 🍬 \n",
      " \n",
      " ⚠ ON AVERAGE: You got 55% (45% missing). You need to increase it, we have to address this. 🤔\n",
      " \n",
      " \n",
      " ⚠ TOUGHEST DAY: April 26, your intake was 32% (68% missing). It's not enough, we have to address this. 🤔\n",
      "output: 🍬 SUGAR 🍬\n",
      "\n",
      "⚠ Important reminder: You've been missing your sugar intake goal. On average, you've been getting 55% of what you need. We need to improve this! 🤔\n",
      "\n",
      "⚠ Specifically, on April 26, you only got 32% of your daily sugar intake. Let's work on increasing this! 🤔\n",
      "\n",
      "input: 🔥 ENERGY 🔥 \n",
      " \n",
      " ✅ ON AVERAGE: I see a good balance in your energy intake. Well done! 😃 \n",
      " 📈 PROGRESS: The average energy intake is about the same as before 🧐 \n",
      " \n",
      " ⚠ TOUGHEST DAY: April 17, your intake was 51% (49% missing). It's not enough, we have to address this. 🧐\n",
      " 📈 PROGRESS: The intake for most off-plan day is about the same as before 🧐\n",
      "output: 🔥 ENERGY 🔥\n",
      "\n",
      "👍 You're doing great! Your average energy intake is balanced. 🙌\n",
      "\n",
      "📈 Your progress is steady, with no significant changes. 📊\n",
      "\n",
      "⚠️ However, on April 17, your energy intake was only 51%, which is a concern. Let's work on improving this. 💪\n",
      "\n"
     ]
    }
   ],
   "source": [
    "generate_output(messages, model, tokenizer) # 2:00"
   ]
  },
  {
   "cell_type": "markdown",
   "metadata": {},
   "source": [
    "### 4-bit, Static kv-cache and torch.compile"
   ]
  },
  {
   "cell_type": "code",
   "execution_count": null,
   "metadata": {},
   "outputs": [
    {
     "name": "stderr",
     "output_type": "stream",
     "text": [
      "Loading checkpoint shards: 100%|██████████| 4/4 [00:44<00:00, 11.25s/it]\n"
     ]
    }
   ],
   "source": [
    "model = AutoModelForCausalLM.from_pretrained(\n",
    "    MODEL_ID,\n",
    "    device_map=\"auto\",\n",
    "    quantization_config=bnb_config,\n",
    "    torch_dtype=torch.bfloat16)\n",
    "model.generation_config.cache_implementation = \"static\"\n",
    "model = torch.compile(model, mode=\"reduce-overhead\", fullgraph=True)"
   ]
  },
  {
   "cell_type": "code",
   "execution_count": null,
   "metadata": {},
   "outputs": [],
   "source": [
    "def generate_output(messages, model, tokenizer):\n",
    "    for message in messages:\n",
    "        print('input:', message)\n",
    "        context = [\n",
    "            {\"role\": \"system\", \"content\": REPHRASING_PROMPT},\n",
    "            {\"role\": \"user\", \"content\": message},\n",
    "        ]\n",
    "\n",
    "        input_ids = tokenizer.apply_chat_template(\n",
    "            context,\n",
    "            add_generation_prompt=True,\n",
    "            return_tensors=\"pt\"\n",
    "        ).to(model.device)\n",
    "\n",
    "        terminators = [\n",
    "            tokenizer.eos_token_id,\n",
    "            tokenizer.convert_tokens_to_ids(\"<|eot_id|>\")\n",
    "        ]\n",
    "\n",
    "        outputs = model.generate(\n",
    "            input_ids,\n",
    "            max_new_tokens=256,\n",
    "            pad_token_id=tokenizer.pad_token_id,\n",
    "            eos_token_id=terminators,\n",
    "            do_sample=True,\n",
    "            temperature=0.6,\n",
    "            top_p=0.9,\n",
    "        )\n",
    "        response = outputs[0][input_ids.shape[-1]:]\n",
    "        print('output:', tokenizer.decode(response, skip_special_tokens=True))\n",
    "        \n",
    "        print()"
   ]
  },
  {
   "cell_type": "code",
   "execution_count": null,
   "metadata": {},
   "outputs": [],
   "source": [
    "generate_output(messages, model, tokenizer)"
   ]
  },
  {
   "cell_type": "markdown",
   "metadata": {},
   "source": [
    "### 4-bit and Flash Attention"
   ]
  },
  {
   "cell_type": "code",
   "execution_count": null,
   "metadata": {},
   "outputs": [],
   "source": [
    "model = AutoModelForCausalLM.from_pretrained(\n",
    "    MODEL_ID,\n",
    "    load_in_4bit=True,\n",
    "    attn_implementation=\"flash_attention_2\",\n",
    ")"
   ]
  },
  {
   "cell_type": "code",
   "execution_count": null,
   "metadata": {},
   "outputs": [],
   "source": [
    "generate_output(messages, model, tokenizer) # 2:00"
   ]
  },
  {
   "cell_type": "markdown",
   "metadata": {},
   "source": [
    "### Ollama"
   ]
  },
  {
   "cell_type": "code",
   "execution_count": 28,
   "metadata": {},
   "outputs": [],
   "source": [
    "messages = [\n",
    "# counselling\n",
    "# ('Would you like some help with a struggle?', 'counselling'),\n",
    "# ('Hmm... Would you like to try explaining again? It can help to give some extra sentences to describe your problem!', 'retry_counselling'),\n",
    "# ('Was this helpful?', 'ask_feedback'),\n",
    "\n",
    "# prompting\n",
    "# (\"Hey! I noticed that your food diary from yesterday is still empty... It's important to log your foods while you still remember what you've eaten!\", 'check_diary'),\n",
    "# (\"Hey! I noticed a food entry with more than 1 kilogram in your food diary yesterday... Maybe double check to see if everything's logged correctly?\", 'check_diary'),\n",
    "# (\"Hey! I noticed a food entry with more than 2 litres in your food diary yesterday... Maybe double check to see if everything's logged correctly?\", 'check_diary'),\n",
    "# (\"Hey! I noticed a food entry with more than 4 cups in your food diary yesterday... Maybe double check to see if everything's logged correctly?\", 'check_diary'),\n",
    "# (\"Hey! I noticed a food entry with more than half your calorie goal in your food diary yesterday... Maybe double check to see if everything's logged correctly?\", 'check_diary'),\n",
    "# (\"Hey! I noticed less than 4 food entries in your food diary yesterday... Maybe double check to see if everything's logged correctly?\", 'check_diary'),\n",
    "# (\"Hey! I noticed less than half of your calorie goal in your food diary yesterday... Maybe double check to see if everything's logged correctly?\", 'check_diary'),\n",
    "# (\"Hey! I noticed more than twice your calorie goal in your food diary yesterday... Maybe double check to see if everything's logged correctly?\", 'check_diary'),\n",
    "\n",
    "# no_dates\n",
    "# ('*****no_dates*****', False),\n",
    "# ('''My apologies, but I don't get what time you asked for 😕''', 'no_dates'),\n",
    "# ('''For dates, this is the format I understand:\n",
    "#  - day: numbers (0-31)\n",
    "#  - months: the name either full or abbreviated (e.g.: January or Jan)\n",
    "#  - year: complete year (e.g.: 2005)\n",
    "\n",
    "# #  For example I'll understand: Jan 10 2005! 😊''', 'no_dates'),\n",
    "\n",
    "# no_multiple_times\n",
    "# ('*****no_multiple_times*****', False),\n",
    "# ('''That's more than one time period, I can't do that. 🧐''', 'no_multiple_times'),\n",
    "# ('''I can't provide insights for multiple time periods 🧐''', 'no_multiple_times'),\n",
    "# ('''But I can provide comparisons! Try something like \"Compare today with yesterday\" ☺️''', 'no_multiple_times'),\n",
    "# ('''Perhaps you're looking for comparisons, like \"Was this week better than last week\"? 😄''', 'no_multiple_times'),\n",
    "\n",
    "# wait\n",
    "# ('*****wait*****', False),\n",
    "# ('''I'm checking your data: \n",
    " \n",
    "#  - from Apr 27 2024 \n",
    " \n",
    "#  and getting the insights... 🔎''', 'wait'),\n",
    "# ('''I'm checking your data: \n",
    " \n",
    "#  - from Apr 22 2024 to Apr 28 2024 \n",
    " \n",
    "#  and getting the insights... 🔎''', 'wait'),\n",
    "# ('''I'm analysing your data: \n",
    " \n",
    "#  - from Mar 01 2024 to Mar 31 2024 \n",
    "#  - and from Apr 01 2024 to Apr 30 2024 \n",
    " \n",
    "#  and checking what changed... 🔎''', 'wait'),\n",
    "# ('''I'm analysing your data:\n",
    "\n",
    "#  - about *energy*\n",
    "#  - *from Apr 22 2024 to Apr 28 2024*\n",
    "\n",
    "#  and getting the insights... 🔎''', 'wait'),\n",
    "# ('''I'm analysing your data:\n",
    "\n",
    "#  - about *sodium*\n",
    "#  - *from Apr 22 2024 to Apr 28 2024*\n",
    "\n",
    "#  and getting the insights... 🔎''', 'wait'),\n",
    "\n",
    "# wait_more\n",
    "# ('*****wait_more*****', False),\n",
    "# ('''Ok, let me analyse your data some more... 🔎''', 'wait_more'),\n",
    "# ('''Okay, will be back soon with more info... 🔎''', 'wait_more'),\n",
    "# ('''(Advanced analysis requires time, I'll be back when I'm done...)''', 'wait_more'),\n",
    "# ('''(This may take some time, I'll send you a message when it's done...)''', 'wait_more'),\n",
    "\n",
    "# empty\n",
    "('*****empty*****', False),\n",
    "('''Your diary looks empty for this period 🤔''', 'empty'),\n",
    "('''I see...no data this period 🧐''', 'empty'),\n",
    "('''come back when you put some data in your diary ☺️''', 'empty'),\n",
    "('''I can't help you until you've filled your diary ☺️''', 'empty'),\n",
    "\n",
    "# holes_inside_warn\n",
    "('*****holes_inside_warn*****', False),\n",
    "('''Some days are missing. I can estimate them but the final value could be different to reality. Would you like me to estimate your data?''', 'holes_inside_warn'),\n",
    "('''⚠ *ATTENTION: SOME DATA ARE ESTIMATED* ⚠\n",
    " *You've made me *approximate some data* because they were missing. The values you see *might be less accurate*.*\n",
    " Also, you won't be able to view advanced insights, as this wouldn't be safe for you.''', 'holes_inside_warn'),\n",
    "\n",
    "# holes_surrounding_warn\n",
    "('*****holes_surrounding_warn*****', False),\n",
    "('''Some days at the beginning and/or end are missing. 🧐 \n",
    " \n",
    " I removed these for you: \n",
    " - Mar 01 - Mar 05''', 'holes_surrounding_warn'),\n",
    "\n",
    "# most_data_missing\n",
    "('*****most_data_missing*****', False),\n",
    "('''Most of the days in that period are empty, so I'm sorry to say that I can't do that. 😔''', 'most_data_missing'),\n",
    "('''Go fill the empty days and try again 😁''', 'most_data_missing'),\n",
    "\n",
    "# query_complexity_excess\n",
    "('*****query_complexity_excess*****', False),\n",
    "('''That's too hard for me, my time limit is 5 months 😅''', 'query_complexity_excess'),\n",
    "\n",
    "# update\n",
    "('*****update*****', False, False),\n",
    "('''🔥 *ENERGY* 🔥\n",
    "\n",
    " ⚠ *ON AVERAGE:* You had *61% (39% missing)*. You need to increase it, we'll have to work on it. 🧐\n",
    "\n",
    "\n",
    " ⚠ *TOUGHEST DAY:* I'm sorry but with only one day I can't tell you this 😕''', 'update', 'energy'),\n",
    "('''🔥 *ENERGY* 🔥\n",
    "\n",
    " ✅ *ON AVERAGE:* I see a good balance in your energy intake. That's great! 😊\n",
    "\n",
    " ⚠ *TOUGHEST DAY:* April 17, your intake was *51% (49% missing)*. It needs to be higher, we'll have to work on it. 🧐''', 'update', 'energy'),\n",
    "('''⚠ *TREND:* you should keep your actual energy intake, unfortunately you're lightly reducing it .\n",
    " This is ok for now but try stabilising this or it could affect your diet 🤨\n",
    "\n",
    " ✅ *CONSISTENCY:* Your daily intake looks regular, nice work! 🙂''', 'update', 'energy'),\n",
    "('''⚠ FOOD: In the chart below you can see how different foods contributes to your intake:''', 'update', 'energy'),\n",
    "('''⚠ *TREND AND CONSISTENCY:* sorry, I need 3 or more days for this 😕''', 'update', 'carbohydrates'),\n",
    "('''⚠ TREND: you should get more carbohydrates, but you're slightly decreasing it .\n",
    " It would be better to revert this. 🧐 \n",
    " \n",
    " ⚠ CONSISTENCY: Your daily intake seems pretty variable: try to eat similar amounts every day. 🧐''', 'update', 'carbohydrates'),\n",
    "('''✅ TREND: you should get more sodium, in fact you're lightly increasing it .\n",
    " This is the right way to go. ☺️ \n",
    " \n",
    " ⚠ CONSISTENCY: I see high variability in your daily intake: you should try to avoid changing it so often 🧐''', 'update', 'sodium'),\n",
    "('''🍖 PROTEIN 🍖 \n",
    " \n",
    " ⚠ ON AVERAGE: You had 83% (17% deficit). It should be more, we'll have to work on it. 🧐\n",
    " \n",
    " \n",
    " ⚠ TOUGHEST DAY: April 28, your intake was 52% (48% missing). It's not enough, we have to address this. 🧐''', 'update', 'protein'),\n",
    "('''🍬 SUGAR 🍬 \n",
    " \n",
    " ⚠ ON AVERAGE: You got 55% (45% missing). You need to increase it, we have to address this. 🤔\n",
    " \n",
    " \n",
    " ⚠ TOUGHEST DAY: April 26, your intake was 32% (68% missing). It's not enough, we have to address this. 🤔''', 'update', 'sugar'),\n",
    "\n",
    "# filter_more_info_button\n",
    "('*****filter_more_info_button*****', False),\n",
    "('''🔥 ENERGY 🔥\n",
    " What do you want to know? 🤔\n",
    "\n",
    " Tap anything you need (tap again to cancel) and confirm when ready 😄''', 'filter_more_info_button'),\n",
    "('''🧈 FAT 🧈\n",
    " What do you want to know? 🤔''', 'filter_more_info_button'),\n",
    "\n",
    "# empty_message_stack\n",
    "('*****empty_message_stack*****', False),\n",
    "('''Sure, let's stop here 🙂''', 'empty_message_stack'),\n",
    "('''3,2,1....all gone!''', 'empty_message_stack'),\n",
    "('''Ok, let\\'s forget about that''', 'empty_message_stack'),\n",
    "\n",
    "# weird_comparison\n",
    "('*****weird_comparison*****', False),\n",
    "('''⚠ WARNING:  you're comparing two periods with different lengths. The comparison might be unsafe.''', 'weird_comparison'),\n",
    "('''⚠ *WARNING: * these periods have some *days in common*. The comparison might be unsafe.''', 'weird_comparison'),\n",
    "('''⚠ *WARNING: * you *cut out some days* between the two periods. The comparison might be unsafe.''', 'weird_comparison'),\n",
    "\n",
    "# compare\n",
    "('*****compare*****', False, False),\n",
    "('''⚠ TREND: you should keep your actual energy intake, instead you're slightly decreasing it .\n",
    " This is ok for now but better stabilise it to preserve this result 🤔 \n",
    " 📈 PROGRESS: The trend is about the same as before 🤔 \n",
    " \n",
    " ✅ CONSISTENCY: Your daily intake looks regular, good job! 😁 \n",
    " 📈 PROGRESS: The consistency didn't really change 🤔''', 'compare', 'energy'),\n",
    "('''🔥 ENERGY 🔥 \n",
    " \n",
    " ✅ ON AVERAGE: I see a good balance in your energy intake. Well done! 😃 \n",
    " 📈 PROGRESS: The average energy intake is about the same as before 🧐 \n",
    " \n",
    " ⚠ TOUGHEST DAY: April 17, your intake was 51% (49% missing). It's not enough, we have to address this. 🧐\n",
    " 📈 PROGRESS: The intake for most off-plan day is about the same as before 🧐''', 'compare', 'energy'),\n",
    "\n",
    "# compare no dates\n",
    "('Please give me two dates or a date range to compare', 'compare_no_dates'),\n",
    "('''It looks like you've only given me one date or date range! Could you give me two to compare?''', 'compare_one_date'),\n",
    "('''I'm sorry, but I can only compare two dates or date ranges''', 'compare_many_dates'),\n",
    "]"
   ]
  },
  {
   "cell_type": "code",
   "execution_count": null,
   "metadata": {},
   "outputs": [],
   "source": [
    "messages = [\n",
    "    ('''🔥 *ENERGY* 🔥\n",
    "\n",
    " ⚠ *ON AVERAGE:* Your intake was *15% more than your goal*. It needs to be lower, we have to address this. 🤨\n",
    "\n",
    "\n",
    " ⚠ *TOUGHEST DAY:* sorry, I need at least two days to get this 😕''', 'update', 'energy'),\n",
    "    ('''⚠ *TREND AND CONSISTENCY:* for this I need at least 3 days, sorry 😕''', 'update', 'sugar'),\n",
    "    ('''⚠ *FOOD*: In the below chart you can see how different foods contribute to your intake:''', 'update', 'sodium'),\n",
    "    ('''🍝 *CARBOHYDRATES* 🍝\n",
    "\n",
    " ⚠ *ON AVERAGE:* You got *67% (33% missing)*. It's not enough, we have to address this. 🧐\n",
    "\n",
    "\n",
    " ⚠ *TOUGHEST DAY:* sorry, I need at least two days to get this 😕''', 'update', 'carbohydrates'),\n",
    "    ('''🍬 *SUGAR* 🍬\n",
    "\n",
    " ✅ *ON AVERAGE:* I see a good balance in your sugar intake. That's great! 😎\n",
    "\n",
    " ⚠ *TOUGHEST DAY:* May 05, your intake was *73% (27% missing)*. You need to increase it, we have to address this. 🧐''', 'update', 'sugar'),\n",
    "    ('''⚠ *TREND:* you should keep your actual energy intake, instead you're lightly reducing it .\n",
    " It's ok for now but try stabilising this or it could affect your diet 🤨\n",
    "\n",
    " ⚠ *CONSISTENCY:* Your daily intake seems pretty variable: you should try to regularise it. 🤨''', 'update', 'energy'),\n",
    "    ('''✅ *FOOD*: In the chart below you can see how different foods contribute to your intake:''', 'update', 'energy'),\n",
    "    ('''🧈 *FAT* 🧈\n",
    "\n",
    " ⚠ *ON AVERAGE:* You got *84% (16% deficit)*. It needs to be higher, we have to address this. 🤨\n",
    " 📈 *PROGRESS:* The average fat intake didn't really change 🤨\n",
    "\n",
    " ⚠ *TOUGHEST DAY:* April 17, your intake was *51% (49% missing)*. It needs to be higher, we have to address this. 🤨\n",
    " 📈 *PROGRESS:* The intake for most off-plan day looked better before (now it's 14% worse). 😕''', 'compare', 'fat'),\n",
    "    ('''✅ *TREND:* you should get more energy, in fact, you're slightly rising it .\n",
    " You should keep this up. 😃\n",
    "\n",
    " 📈 *PROGRESS:* The trend looked better before 😕\n",
    "\n",
    " ✅ *CONSISTENCY:* Your data show a stable daily intake, that's great! 😃\n",
    " 📈 *PROGRESS*: The consistency is about the same as before 🧐''', 'compare', 'energy'),\n",
    "    ('''🍖 *PROTEIN* 🍖\n",
    "\n",
    " ⚠ *ON AVERAGE:* You had *70% (30% missing)*. You should increase your consumption, we need to work on this. 🤔\n",
    " 📈 *PROGRESS:* The average protein intake improved (now it's 19% better). 😎\n",
    "\n",
    " ⚠ *TOUGHEST DAY:* sorry, if any of your periods has only one day I can't get this for you 😕''', 'compare', 'protein'),\n",
    "    ('''⚠ *TREND AND CONSISTENCY:* for this I need at least 3 days for both periods, sorry 😕''', 'compare', 'sodium')\n",
    "    \n",
    "]"
   ]
  },
  {
   "cell_type": "code",
   "execution_count": null,
   "metadata": {},
   "outputs": [],
   "source": [
    "REPHRASING_PROMPT = \"Rephrase the following message to the user, keeping any mentioned numbers and dates. Do not introduce new dates. Do not assume unspecified time periods. Do not add extra information. Do not ask questions. Use emojis.\""
   ]
  },
  {
   "cell_type": "code",
   "execution_count": null,
   "metadata": {},
   "outputs": [],
   "source": [
    "REPHRASING_PROMPT = \"Do not include additional information. Use simple language and emojis. Rephrase the following message to the user.\""
   ]
  },
  {
   "cell_type": "code",
   "execution_count": 29,
   "metadata": {},
   "outputs": [],
   "source": [
    "import requests\n",
    "import json\n",
    "\n",
    "def generate_ollama_output(model, prompt):#, message=None):\n",
    "    # print('input:', message)\n",
    "    print(prompt)\n",
    "\n",
    "    url = 'http://localhost:11434/api/generate'\n",
    "    payload = {\n",
    "        \"model\": model,\n",
    "        # \"system\": prompt,\n",
    "        \"prompt\": prompt, #message\n",
    "        \"options\": {\n",
    "            \"temperature\": 0.6\n",
    "        },\n",
    "        \"keep_alive\": -1,\n",
    "        \"stream\": False\n",
    "    }\n",
    "    payload_json = json.dumps(payload, ensure_ascii=False)\n",
    "    headers = {'Content-Type': 'application/json'}\n",
    "    response = requests.post(url, data=payload_json.encode('utf-8'), headers=headers)\n",
    "\n",
    "    # Check if the request was successful (status code 200)\n",
    "    if response.status_code == 200:\n",
    "        output = json.loads(response.content.decode('utf-8'))['response']\n",
    "        # print('output:', output)\n",
    "        print(output)\n",
    "        print()\n",
    "    else:\n",
    "        print(\"Error in rephrasing request:\", response.status_code, 'response:', response.content.decode('utf-8'))"
   ]
  },
  {
   "cell_type": "code",
   "execution_count": 30,
   "metadata": {},
   "outputs": [],
   "source": [
    "import requests\n",
    "import json\n",
    "\n",
    "def generate_ollama_output(model, prompt, message=None):\n",
    "    print('input:', message)\n",
    "    # print(prompt)\n",
    "\n",
    "    url = 'http://localhost:11434/api/generate'\n",
    "    payload = {\n",
    "        \"model\": model,\n",
    "        \"system\": prompt,\n",
    "        \"prompt\": message,\n",
    "        \"options\": {\n",
    "            \"temperature\": 0.6\n",
    "        },\n",
    "        \"keep_alive\": -1,\n",
    "        \"stream\": False\n",
    "    }\n",
    "    payload_json = json.dumps(payload, ensure_ascii=False)\n",
    "    headers = {'Content-Type': 'application/json'}\n",
    "    response = requests.post(url, data=payload_json.encode('utf-8'), headers=headers)\n",
    "\n",
    "    # Check if the request was successful (status code 200)\n",
    "    if response.status_code == 200:\n",
    "        output = json.loads(response.content.decode('utf-8'))['response']\n",
    "        # print('output:', output)\n",
    "        print(output)\n",
    "        print()\n",
    "    else:\n",
    "        print(\"Error in rephrasing request:\", response.status_code, 'response:', response.content.decode('utf-8'))"
   ]
  },
  {
   "cell_type": "code",
   "execution_count": null,
   "metadata": {},
   "outputs": [],
   "source": [
    "contexts = {\n",
    "        'ask_feedback': 'You are asking for feedback on the supportive texts you provided the user with. ',\n",
    "        'check_diary': \"You are checking if the user made an error while filling in their food diary yesterday. Tell the user exactly what you noticed. \",\n",
    "        'compare': 'The user requested comparative insights into their {} intake between two specified periods. Keep all information including all percentages of daily goal. Do not greet the user or prompt a response. ',\n",
    "        'compare_average': \"The user requested comparative insights into their average {} intake and toughest day between two specified periods. Specified periods must be longer than one day to calculate toughest day. Keep all information including all percentages of daily goal. Do not greet the user or prompt a response. \",\n",
    "        'compare_trend': 'The user requested comparative insights into the trends and consistency of their {} intake between two specified periods. This can only be calculated if they specify periods both longer than 3 days. Keep all information including all percentages of daily goal. Do not greet the user or prompt a response. ',\n",
    "        'compare_food': 'The user requested comparative insights into the food items that contributed to their {} intake between two specified periods. Keep all information including all percentages of daily goal. Do not greet the user or prompt a response. ',\n",
    "        'compare_no_dates': 'The user requested comparative insights into their food diary but did not give dates. Do not greet the user. ',\n",
    "        'compare_one_date': 'The user requested comparative insights into their food diary but only gave one date. Do not greet the user. ',\n",
    "        'compare_many_dates': 'The user requested comparative insights into their food diary but gave too many dates. Do not greet the user. ',\n",
    "        'counselling': 'You are asking whether the user needs helps with their diet. ',\n",
    "        'retry_counselling': \"You are asking the user whether they want to try explaining their diet issue again with different words. \",\n",
    "        'empty': \"The user requested insights into their food diary for a time period with no data. \",\n",
    "        'empty_message_stack': 'The user has chosen to end the flow of information and buttons. ',\n",
    "        'filter_more_info_button': 'The user is offered button options below for different types of advanced insights of their food diary. Keep the heading. Do not assume the options. ',\n",
    "        'holes_inside_warn': \"The user's food diary has empty days in the specified period, so insights will be calculated without the empty days. Mention any removed dates but do not assume the time period. \",\n",
    "        'holes_surrounding_warn': \"The user's food diary has empty days in the specified period, so insights will be calculated without the empty days. Mention any removed dates but do not assume the time period. Do not ask questions. \",\n",
    "        'invalid_button': 'The user has clicked on a previous button for more advanced insights that is now outdated. You cannot retrieve this information. Do not apologise. ',\n",
    "        'more_info_denied': \"The user's food diary has estimated days that were empty in the specified period, so insights cannot be calculated. \",\n",
    "        'most_data_missing': \"The user's food diary has too many empty days in the specified period, so insights cannot be calculated. Do not ask questions. \",\n",
    "        'no_dates': 'The user requested insights of their food diary but did not specify dates in the correct format. Do not include greetings. ',\n",
    "        'no_dates_default': 'The user requested insights into their food diary but did not specify dates in the correct format. Do not include greetings. ',\n",
    "        'no_multiple_times': 'The user either mentioned more than one time period for insights into their food diary, or more than two time periods for a comparison. Use the same examples. ',\n",
    "        # 'partial_typo': '',\n",
    "        'query_complexity_excess': 'The user requested insights into their food diary over a specified period longer than the maximum of 5 months. ',\n",
    "        'update': 'The user requested insights into their {} intake over a specified period. Keep all information including all percentages of daily goal. Do not greet the user or prompt a response. ',\n",
    "        'update_average': \"The user requested insights into their average {} intake and toughest day over a specified period. The specified period must be longer than one day to calculate toughest day. Keep all information including all percentages of daily goal. Do not greet the user or prompt a response. \",\n",
    "        'update_trend': 'The user requested insights into the trends and consistency of their {} intake over a specified period. This can only be calculated if they specify a period longer than 3 days. Keep all information including all percentages of daily goal. Do not greet the user or prompt a response. ',\n",
    "        'update_food': 'The user requested insights into the food items that contributed to their {} intake over a specified period. Keep all information including all percentages of daily goal. Do not greet the user or prompt a response. ',\n",
    "        'wait': 'The user requested insights into their food diary for the specified period. Keep all mentioned dates. ',\n",
    "        'wait_more': 'The user requested advanced insights into their food diary. ',\n",
    "        'weird_comparison': 'The user requested comparative insights into their food diary across two time periods that overlap, are non-consecutive or are different in length. Do not ask questions. ',\n",
    "    }"
   ]
  },
  {
   "cell_type": "code",
   "execution_count": 15,
   "metadata": {},
   "outputs": [],
   "source": [
    "def format_instruction(prompt, message):\n",
    "    return f\"\"\"{prompt}\n",
    "\n",
    "### Message:\n",
    "{message}\n",
    "\n",
    "### Rephrased message:\"\"\""
   ]
  },
  {
   "cell_type": "code",
   "execution_count": null,
   "metadata": {},
   "outputs": [],
   "source": [
    "for message, intent, nutrient in messages:\n",
    "    if intent==False:\n",
    "        print(message)\n",
    "        continue\n",
    "    generate_ollama_output('llama3', format_instruction(contexts[intent].format(nutrient)+REPHRASING_PROMPT, message))\n",
    "    print()"
   ]
  },
  {
   "cell_type": "code",
   "execution_count": null,
   "metadata": {},
   "outputs": [],
   "source": [
    "\n",
    "for message, intent, nutrient in messages:\n",
    "    \n",
    "    if 'AVERAGE' in message:\n",
    "        intent += '_average'\n",
    "    elif 'TREND' in message:\n",
    "        intent += '_trend'\n",
    "    elif 'FOOD' in message:\n",
    "        intent += '_food'\n",
    "        \n",
    "    if intent==False:\n",
    "        print(message)\n",
    "        continue\n",
    "    generate_ollama_output('llama3', format_instruction(contexts[intent].format(nutrient)+REPHRASING_PROMPT, message))"
   ]
  },
  {
   "cell_type": "markdown",
   "metadata": {},
   "source": [
    "### Unsloth Model"
   ]
  },
  {
   "cell_type": "code",
   "execution_count": null,
   "metadata": {},
   "outputs": [
    {
     "name": "stderr",
     "output_type": "stream",
     "text": [
      "Special tokens have been added in the vocabulary, make sure the associated word embeddings are fine-tuned or trained.\n",
      "Unused kwargs: ['_load_in_4bit', '_load_in_8bit', 'quant_method']. These kwargs are not used in <class 'transformers.utils.quantization_config.BitsAndBytesConfig'>.\n"
     ]
    }
   ],
   "source": [
    "tokenizer = AutoTokenizer.from_pretrained(\"unsloth/llama-3-8b-bnb-4bit\")\n",
    "model = AutoModelForCausalLM.from_pretrained(\n",
    "    \"unsloth/llama-3-8b-bnb-4bit\",\n",
    "    device_map=\"auto\",\n",
    "    torch_dtype=torch.bfloat16\n",
    "    )"
   ]
  },
  {
   "cell_type": "code",
   "execution_count": null,
   "metadata": {},
   "outputs": [],
   "source": [
    "generate_output(messages, model, tokenizer) # 10:40"
   ]
  },
  {
   "cell_type": "code",
   "execution_count": null,
   "metadata": {},
   "outputs": [],
   "source": [
    "for message in messages:\n",
    "    print('input:', message)\n",
    "    input_text = '<start_of_turn>user ' + REPHRASING_PROMPT + message  + '<end_of_turn>\\n<start_of_turn>model\\nResponse:\\n\\n'\n",
    "    input_ids = tokenizer(input_text, return_tensors=\"pt\").to(device)\n",
    "\n",
    "    output = model.generate(**input_ids, max_new_tokens=250, do_sample=True)\n",
    "    decoded = tokenizer.decode(output[0], skip_special_tokens=True)\n",
    "    print('output:', decoded[len(input_text)-43:])\n",
    "    \n",
    "    print()"
   ]
  },
  {
   "cell_type": "markdown",
   "metadata": {},
   "source": [
    "## Mistral Instruct"
   ]
  },
  {
   "cell_type": "markdown",
   "metadata": {},
   "source": [
    "### Full Model"
   ]
  },
  {
   "cell_type": "code",
   "execution_count": null,
   "metadata": {},
   "outputs": [
    {
     "name": "stderr",
     "output_type": "stream",
     "text": [
      "Loading checkpoint shards: 100%|██████████| 3/3 [01:03<00:00, 21.24s/it]\n",
      "WARNING:root:Some parameters are on the meta device device because they were offloaded to the cpu.\n"
     ]
    }
   ],
   "source": [
    "tokenizer = AutoTokenizer.from_pretrained(\"mistralai/Mistral-7B-Instruct-v0.2\")\n",
    "model = AutoModelForCausalLM.from_pretrained(\n",
    "    \"mistralai/Mistral-7B-Instruct-v0.2\",\n",
    "    device_map=\"auto\",\n",
    "    torch_dtype=torch.bfloat16,\n",
    ")"
   ]
  },
  {
   "cell_type": "code",
   "execution_count": null,
   "metadata": {},
   "outputs": [
    {
     "name": "stderr",
     "output_type": "stream",
     "text": [
      "A decoder-only architecture is being used, but right-padding was detected! For correct generation results, please set `padding_side='left'` when initializing the tokenizer.\n"
     ]
    },
    {
     "name": "stdout",
     "output_type": "stream",
     "text": [
      "input: I'm checking your data: \n",
      " \n",
      " - from Apr 27 2024 \n",
      " \n",
      " and getting the insights... 🔎\n"
     ]
    },
    {
     "name": "stderr",
     "output_type": "stream",
     "text": [
      "A decoder-only architecture is being used, but right-padding was detected! For correct generation results, please set `padding_side='left'` when initializing the tokenizer.\n"
     ]
    },
    {
     "name": "stdout",
     "output_type": "stream",
     "text": [
      "output: Great news! 😃 I'm currently analyzing your data from 📅 Apr 27, 2024. 🔎 Stay tuned for the insights!\n",
      "\n",
      "input: I'm checking your data: \n",
      " \n",
      " - from Apr 22 2024 to Apr 28 2024 \n",
      " \n",
      " and getting the insights... 🔎\n"
     ]
    },
    {
     "name": "stderr",
     "output_type": "stream",
     "text": [
      "A decoder-only architecture is being used, but right-padding was detected! For correct generation results, please set `padding_side='left'` when initializing the tokenizer.\n"
     ]
    },
    {
     "name": "stdout",
     "output_type": "stream",
     "text": [
      "output: Great news! 🤩 I'm currently analyzing your data:\n",
      "\n",
      " - From 🗓️ Apr 22, 2024 to 🗓️ Apr 28, 2024 \n",
      "\n",
      " Stay tuned for the fascinating insights! 💡🔮\n",
      "\n",
      "input: I'm analysing your data: \n",
      " \n",
      " - from Mar 01 2024 to Mar 31 2024 \n",
      " - and from Apr 01 2024 to Apr 30 2024 \n",
      " \n",
      " and checking what changed... 🔎\n"
     ]
    },
    {
     "name": "stderr",
     "output_type": "stream",
     "text": [
      "A decoder-only architecture is being used, but right-padding was detected! For correct generation results, please set `padding_side='left'` when initializing the tokenizer.\n"
     ]
    },
    {
     "name": "stdout",
     "output_type": "stream",
     "text": [
      "output: Great news! 🤩 I'm currently examining your data:\n",
      "\n",
      " - from Mar 1, 2024 to Mar 31, 2024 📅\n",
      " - and from Apr 1, 2024 to Apr 30, 2024 📅\n",
      "\n",
      "To see what has been altered. 🔎\n",
      "\n",
      "input: Your diary looks empty for this period 🤔\n"
     ]
    },
    {
     "name": "stderr",
     "output_type": "stream",
     "text": [
      "A decoder-only architecture is being used, but right-padding was detected! For correct generation results, please set `padding_side='left'` when initializing the tokenizer.\n"
     ]
    },
    {
     "name": "stdout",
     "output_type": "stream",
     "text": [
      "output: 觉得这段时间你的日程空空如也📅📅\n",
      "\n",
      "input: come back when you put some data in your diary ☺️\n"
     ]
    },
    {
     "name": "stderr",
     "output_type": "stream",
     "text": [
      "A decoder-only architecture is being used, but right-padding was detected! For correct generation results, please set `padding_side='left'` when initializing the tokenizer.\n"
     ]
    },
    {
     "name": "stdout",
     "output_type": "stream",
     "text": [
      "output: Great emoji 😃! Return when you've added some info to your calendar 📅.\n",
      "\n",
      "input: Ok, let me analyse your data some more... 🔎\n"
     ]
    },
    {
     "name": "stderr",
     "output_type": "stream",
     "text": [
      "A decoder-only architecture is being used, but right-padding was detected! For correct generation results, please set `padding_side='left'` when initializing the tokenizer.\n"
     ]
    },
    {
     "name": "stdout",
     "output_type": "stream",
     "text": [
      "output: Great, giving your data some extra thought and examination 💭🔎\n",
      "\n",
      "input: Okay, will be back soon with more info... 🔎\n"
     ]
    },
    {
     "name": "stderr",
     "output_type": "stream",
     "text": [
      "A decoder-only architecture is being used, but right-padding was detected! For correct generation results, please set `padding_side='left'` when initializing the tokenizer.\n"
     ]
    },
    {
     "name": "stdout",
     "output_type": "stream",
     "text": [
      "output: Great, I'll be back soon with more details! 🔍🔎\n",
      "\n",
      "input: (Advanced analysis requires time, I'll be back when I'm done...)\n"
     ]
    },
    {
     "name": "stderr",
     "output_type": "stream",
     "text": [
      "A decoder-only architecture is being used, but right-padding was detected! For correct generation results, please set `padding_side='left'` when initializing the tokenizer.\n"
     ]
    },
    {
     "name": "stdout",
     "output_type": "stream",
     "text": [
      "output: ми 💻🔬 Analyzing deeply, 🕒 will be back soon! 🕙\n",
      "\n",
      "input: (This may take some time, I'll send you a message when it's done...)\n"
     ]
    },
    {
     "name": "stderr",
     "output_type": "stream",
     "text": [
      "A decoder-only architecture is being used, but right-padding was detected! For correct generation results, please set `padding_side='left'` when initializing the tokenizer.\n"
     ]
    },
    {
     "name": "stdout",
     "output_type": "stream",
     "text": [
      "output: Great news! 🤩 I'm working on it right now 🔧. I'll be sure to let you know as soon as it's ready 🕒. Stay tuned! 👀\n",
      "\n",
      "input: ⚠ WARNING:  you're comparing two periods with different lenghts. The comparison might be unsafe.\n"
     ]
    },
    {
     "name": "stderr",
     "output_type": "stream",
     "text": [
      "A decoder-only architecture is being used, but right-padding was detected! For correct generation results, please set `padding_side='left'` when initializing the tokenizer.\n"
     ]
    },
    {
     "name": "stdout",
     "output_type": "stream",
     "text": [
      "output: îtreWarnings!⚠️\n",
      "You're attempting to compare periods of unequal lengths.\n",
      "🛑 Proceed with caution. 💡\n",
      "\n",
      "input: Some days at the beginning and/or end are missing. 🧐 \n",
      " \n",
      " I removed these for you: \n",
      " - Mar 01 - Mar 05\n"
     ]
    },
    {
     "name": "stderr",
     "output_type": "stream",
     "text": [
      "A decoder-only architecture is being used, but right-padding was detected! For correct generation results, please set `padding_side='left'` when initializing the tokenizer.\n"
     ]
    },
    {
     "name": "stdout",
     "output_type": "stream",
     "text": [
      "output: 👉 Some parts at the start and/or finish are blank. 😕\n",
      "\n",
      "I've taken out these sections:\n",
      "- Mar 01 - Mar 05 📅\n",
      "\n",
      "input: ⚠ FOOD: In the chart below you can see how different foods contributes to your intake:\n"
     ]
    },
    {
     "name": "stderr",
     "output_type": "stream",
     "text": [
      "A decoder-only architecture is being used, but right-padding was detected! For correct generation results, please set `padding_side='left'` when initializing the tokenizer.\n"
     ]
    },
    {
     "name": "stdout",
     "output_type": "stream",
     "text": [
      "output: ще❶ Food Chart: A peek into your consumption of various foods:\n",
      "\n",
      "[🥗 salad, 🍎 fruit, 🍔 burger, 🍲 pasta, 🍜 rice]\n",
      "\n",
      "👉 Each emoji represents a specific food from your chart. Stay tuned for more insights! 🔎\n",
      "\n",
      "input: ⚠ TREND: you should get more carbohydrates, but you're slightly decreasing it .\n",
      " It would be better to revert this. 🧐 \n"
     ]
    },
    {
     "name": "stderr",
     "output_type": "stream",
     "text": [
      "A decoder-only architecture is being used, but right-padding was detected! For correct generation results, please set `padding_side='left'` when initializing the tokenizer.\n"
     ]
    },
    {
     "name": "stdout",
     "output_type": "stream",
     "text": [
      "output: мми😕 You've been consuming slightly fewer carbohydrates than recommended. 📉 It might be a good idea to increase your intake again. 🍜 #Carbs #HealthyEating #NutritionGoals\n",
      "\n",
      "input: ⚠ CONSISTENCY: Your daily intake seems pretty variable: try to eat similar amounts every day. 🧐\n"
     ]
    },
    {
     "name": "stderr",
     "output_type": "stream",
     "text": [
      "A decoder-only architecture is being used, but right-padding was detected! For correct generation results, please set `padding_side='left'` when initializing the tokenizer.\n"
     ]
    },
    {
     "name": "stdout",
     "output_type": "stream",
     "text": [
      "output: мимикрящие глаза: Your daily food consumption appears quite inconsistent: aim for a more regular intake. 🥗🍔🍜🍕☹️ (Emojis representing healthy food, fast food, sushi, and pizza to illustrate varying food choices)\n",
      "\n",
      "input: ✅ TREND: you should get more sodium, in fact you're lightly increasing it .\n",
      " This is the right way to go. ☺️ \n",
      " \n",
      " ⚠ CONSISTENCY: I see high variability in your daily intake: you should try to avoid changing it so often 🧐\n"
     ]
    },
    {
     "name": "stderr",
     "output_type": "stream",
     "text": [
      "A decoder-only architecture is being used, but right-padding was detected! For correct generation results, please set `padding_side='left'` when initializing the tokenizer.\n"
     ]
    },
    {
     "name": "stdout",
     "output_type": "stream",
     "text": [
      "output: >:regional_indicator_checkered_flag: YOUR TREND: Consider adding more sodium to your diet. 👍🏽\n",
      ">:grinning_face_with_smiling_eyes: IT'S THE WAY TO GO. ☺️\n",
      "\n",
      ">:warning: YOUR CONSISTENCY: I've noticed significant fluctuations in your daily sodium intake. 🧐\n",
      ">:confused: TRY TO KEEP IT MORE CONSISTENT. 🔁\n",
      "\n",
      "input: ⚠ TREND: you should keep your actual energy intake, instead you're slightly decreasing it .\n",
      " This is ok for now but better stabilise it to preserve this result 🤔 \n",
      " 📈 PROGRESS: The trend is about the same as before 🤔 \n",
      " \n",
      " ✅ CONSISTENCY: Your daily intake looks regular, good job! 😁 \n",
      " 📈 PROGRESS: The consistency didn't really change 🤔\n"
     ]
    },
    {
     "name": "stderr",
     "output_type": "stream",
     "text": [
      "A decoder-only architecture is being used, but right-padding was detected! For correct generation results, please set `padding_side='left'` when initializing the tokenizer.\n"
     ]
    },
    {
     "name": "stdout",
     "output_type": "stream",
     "text": [
      "output: мировая символика: Тренд: ваша реальная потребность в энергии немного уменьшается, а не сохраняется.\n",
      " Это в порядке дел в настоящее время, но лучше установите стабильность, чтобы сохранить это достижение 🤔 \n",
      " 📈 Прогресс: Тренд примерно такой же, как раньше 🤔\n",
      "\n",
      " ✅ Постоянство: Ваша ежедневная потребность выглядит регулярной, хорошо сделано! 😁 \n",
      " 📈 Прогресс: Постоянство не изменилось намного 🤔\n",
      "\n",
      "input: 🍖 PROTEIN 🍖 \n",
      " \n",
      " ⚠ ON AVERAGE: You had 83% (17% deficit). It should be more, we'll have to work on it. 🧐\n",
      " \n",
      " \n",
      " ⚠ TOUGHEST DAY: April 28, your intake was 52% (48% missing). It's not enough, we have to address this. 🧐\n"
     ]
    },
    {
     "name": "stderr",
     "output_type": "stream",
     "text": [
      "A decoder-only architecture is being used, but right-padding was detected! For correct generation results, please set `padding_side='left'` when initializing the tokenizer.\n"
     ]
    },
    {
     "name": "stdout",
     "output_type": "stream",
     "text": [
      "output: 2. 🍔 **Low Protein Intake** 🍔 \n",
      "\n",
      "🔨 **Average:** 📊 You consumed 83% of your daily protein requirement, falling short by 17%. Let's improve it! 🧐\n",
      "\n",
      "🚨 **April 28:** 📅 Your protein intake was only 52%, meaning you missed the mark by 48%. Let's focus on increasing your intake that day! 🧐\n",
      "\n",
      "input: 🍬 SUGAR 🍬 \n",
      " \n",
      " ⚠ ON AVERAGE: You got 55% (45% missing). You need to increase it, we have to address this. 🤔\n",
      " \n",
      " \n",
      " ⚠ TOUGHEST DAY: April 26, your intake was 32% (68% missing). It's not enough, we have to address this. 🤔\n"
     ]
    },
    {
     "name": "stderr",
     "output_type": "stream",
     "text": [
      "A decoder-only architecture is being used, but right-padding was detected! For correct generation results, please set `padding_side='left'` when initializing the tokenizer.\n"
     ]
    },
    {
     "name": "stdout",
     "output_type": "stream",
     "text": [
      "output: щ️ SWEETS ALERT 🍬 -----\n",
      "\n",
      "❗️ AVERAGE: You've missed 45% of your intake 😕, let's work on improving it! 💡\n",
      "\n",
      "❗️ TOUGHEST DAY: ☹️ April 26, you only consumed 32% 🙈, we need to boost that! 💪🏼\n",
      "\n",
      "input: 🔥 ENERGY 🔥 \n",
      " \n",
      " ✅ ON AVERAGE: I see a good balance in your energy intake. Well done! 😃 \n",
      " 📈 PROGRESS: The average energy intake is about the same as before 🧐 \n",
      " \n",
      " ⚠ TOUGHEST DAY: April 17, your intake was 51% (49% missing). It's not enough, we have to address this. 🧐\n",
      " 📈 PROGRESS: The intake for most off-plan day is about the same as before 🧐\n",
      "output: Great job keeping your energy intake in check 🔥\n",
      "\n",
      "✅ AVERAGE: You're maintaining a good balance on average 😃\n",
      "📈 PROGRESS: Your average energy intake remains similar to before 🧐\n",
      "\n",
      "⚠️ WARNING: On April 17, your energy intake was only 51%, which is 49% less than required 🧐\n",
      "📈 PROGRESS: The energy intake on your most off-plan day remains similar to before 🧐\n",
      "\n",
      "💡 SUGGESTION: Let's work together to improve your intake on challenging days 💪🏼💡\n",
      "\n"
     ]
    }
   ],
   "source": [
    "for message in messages: # 9:50\n",
    "    print('input:', message)\n",
    "    context = [\n",
    "        {\"role\": \"user\", \"content\": REPHRASING_PROMPT + '\\n' + message},\n",
    "        {\"role\": \"assistant\", \"content\": \"Response:\\n\"},\n",
    "    ]\n",
    "\n",
    "    input_ids = tokenizer.apply_chat_template(\n",
    "        context,\n",
    "        add_generation_prompt=True,\n",
    "        return_tensors=\"pt\"\n",
    "    ).to(model.device)\n",
    "\n",
    "    outputs = model.generate(\n",
    "        input_ids,\n",
    "        max_new_tokens=256,\n",
    "        pad_token_id=tokenizer.eos_token_id,\n",
    "        do_sample=True,\n",
    "        temperature=0.6,\n",
    "        top_p=0.9,\n",
    "    )\n",
    "    response = outputs[0][input_ids.shape[-1]:]\n",
    "    print('output:', tokenizer.decode(response, skip_special_tokens=True))\n",
    "    \n",
    "    print()"
   ]
  },
  {
   "cell_type": "markdown",
   "metadata": {},
   "source": [
    "### 4-bit Model"
   ]
  },
  {
   "cell_type": "code",
   "execution_count": null,
   "metadata": {},
   "outputs": [
    {
     "name": "stderr",
     "output_type": "stream",
     "text": [
      "`low_cpu_mem_usage` was None, now set to True since model is quantized.\n",
      "Loading checkpoint shards: 100%|██████████| 3/3 [00:12<00:00,  4.07s/it]\n"
     ]
    }
   ],
   "source": [
    "tokenizer = AutoTokenizer.from_pretrained(\"mistralai/Mistral-7B-Instruct-v0.2\")\n",
    "model = AutoModelForCausalLM.from_pretrained(\n",
    "    \"mistralai/Mistral-7B-Instruct-v0.2\",\n",
    "    quantization_config=bnb_config\n",
    ")"
   ]
  },
  {
   "cell_type": "code",
   "execution_count": null,
   "metadata": {},
   "outputs": [
    {
     "name": "stderr",
     "output_type": "stream",
     "text": [
      "The attention mask and the pad token id were not set. As a consequence, you may observe unexpected behavior. Please pass your input's `attention_mask` to obtain reliable results.\n",
      "Setting `pad_token_id` to `eos_token_id`:2 for open-end generation.\n",
      "A decoder-only architecture is being used, but right-padding was detected! For correct generation results, please set `padding_side='left'` when initializing the tokenizer.\n"
     ]
    },
    {
     "name": "stdout",
     "output_type": "stream",
     "text": [
      "input: I'm checking your data: \n",
      " \n",
      " - from Apr 27 2024 \n",
      " \n",
      " and getting the insights... 🔎\n"
     ]
    },
    {
     "name": "stderr",
     "output_type": "stream",
     "text": [
      "The attention mask and the pad token id were not set. As a consequence, you may observe unexpected behavior. Please pass your input's `attention_mask` to obtain reliable results.\n",
      "Setting `pad_token_id` to `eos_token_id`:2 for open-end generation.\n",
      "A decoder-only architecture is being used, but right-padding was detected! For correct generation results, please set `padding_side='left'` when initializing the tokenizer.\n"
     ]
    },
    {
     "name": "stdout",
     "output_type": "stream",
     "text": [
      "output: great! 🌟 I'm currently analyzing your data from: \n",
      "- April 27, 2024 📅\n",
      "\n",
      "Insights are on the way! 💡🔬\n",
      "\n",
      "input: I'm checking your data: \n",
      " \n",
      " - from Apr 22 2024 to Apr 28 2024 \n",
      " \n",
      " and getting the insights... 🔎\n"
     ]
    },
    {
     "name": "stderr",
     "output_type": "stream",
     "text": [
      "The attention mask and the pad token id were not set. As a consequence, you may observe unexpected behavior. Please pass your input's `attention_mask` to obtain reliable results.\n",
      "Setting `pad_token_id` to `eos_token_id`:2 for open-end generation.\n",
      "A decoder-only architecture is being used, but right-padding was detected! For correct generation results, please set `padding_side='left'` when initializing the tokenizer.\n"
     ]
    },
    {
     "name": "stdout",
     "output_type": "stream",
     "text": [
      "output: Great news! 🤩 I'm currently analyzing your data:\n",
      "\n",
      "- From Apr 22, 2024 to Apr 28, 2024 📅\n",
      "\n",
      "Give me a moment as I uncover the insights... 🔎💡\n",
      "\n",
      "input: I'm analysing your data: \n",
      " \n",
      " - from Mar 01 2024 to Mar 31 2024 \n",
      " - and from Apr 01 2024 to Apr 30 2024 \n",
      " \n",
      " and checking what changed... 🔎\n"
     ]
    },
    {
     "name": "stderr",
     "output_type": "stream",
     "text": [
      "The attention mask and the pad token id were not set. As a consequence, you may observe unexpected behavior. Please pass your input's `attention_mask` to obtain reliable results.\n",
      "Setting `pad_token_id` to `eos_token_id`:2 for open-end generation.\n",
      "A decoder-only architecture is being used, but right-padding was detected! For correct generation results, please set `padding_side='left'` when initializing the tokenizer.\n"
     ]
    },
    {
     "name": "stdout",
     "output_type": "stream",
     "text": [
      "output: Great news! 🌟 I'm currently examining your data:\n",
      "\n",
      " - From Mar 01, 2024 to Mar 31, 2024, and\n",
      " - From Apr 01, 2024 to Apr 30, 2024. 📅\n",
      "\n",
      " I'm putting on my detective hat and digging deep to find any changes that may have occurred during these timeframes. 🔎🕵️‍♀️ Stay tuned! 🔜\n",
      "\n",
      "input: Your diary looks empty for this period 🤔\n"
     ]
    },
    {
     "name": "stderr",
     "output_type": "stream",
     "text": [
      "The attention mask and the pad token id were not set. As a consequence, you may observe unexpected behavior. Please pass your input's `attention_mask` to obtain reliable results.\n",
      "Setting `pad_token_id` to `eos_token_id`:2 for open-end generation.\n",
      "A decoder-only architecture is being used, but right-padding was detected! For correct generation results, please set `padding_side='left'` when initializing the tokenizer.\n"
     ]
    },
    {
     "name": "stdout",
     "output_type": "stream",
     "text": [
      "output: great 📅, it seems your calendar is open for this time! 😊\n",
      "\n",
      "input: come back when you put some data in your diary ☺️\n"
     ]
    },
    {
     "name": "stderr",
     "output_type": "stream",
     "text": [
      "The attention mask and the pad token id were not set. As a consequence, you may observe unexpected behavior. Please pass your input's `attention_mask` to obtain reliable results.\n",
      "Setting `pad_token_id` to `eos_token_id`:2 for open-end generation.\n",
      "A decoder-only architecture is being used, but right-padding was detected! For correct generation results, please set `padding_side='left'` when initializing the tokenizer.\n"
     ]
    },
    {
     "name": "stdout",
     "output_type": "stream",
     "text": [
      "output: Great! 📅 Come back when you've added some data to your diary. ☺️\n",
      "\n",
      "input: Ok, let me analyse your data some more... 🔎\n"
     ]
    },
    {
     "name": "stderr",
     "output_type": "stream",
     "text": [
      "The attention mask and the pad token id were not set. As a consequence, you may observe unexpected behavior. Please pass your input's `attention_mask` to obtain reliable results.\n",
      "Setting `pad_token_id` to `eos_token_id`:2 for open-end generation.\n",
      "A decoder-only architecture is being used, but right-padding was detected! For correct generation results, please set `padding_side='left'` when initializing the tokenizer.\n"
     ]
    },
    {
     "name": "stdout",
     "output_type": "stream",
     "text": [
      "output: Great, giving your data some extra thought... 💭🔎\n",
      "\n",
      "input: Okay, will be back soon with more info... 🔎\n"
     ]
    },
    {
     "name": "stderr",
     "output_type": "stream",
     "text": [
      "The attention mask and the pad token id were not set. As a consequence, you may observe unexpected behavior. Please pass your input's `attention_mask` to obtain reliable results.\n",
      "Setting `pad_token_id` to `eos_token_id`:2 for open-end generation.\n",
      "A decoder-only architecture is being used, but right-padding was detected! For correct generation results, please set `padding_side='left'` when initializing the tokenizer.\n"
     ]
    },
    {
     "name": "stdout",
     "output_type": "stream",
     "text": [
      "output: Great, I'll be back with new details soon 🔍.\n",
      "\n",
      "input: (Advanced analysis requires time, I'll be back when I'm done...)\n"
     ]
    },
    {
     "name": "stderr",
     "output_type": "stream",
     "text": [
      "The attention mask and the pad token id were not set. As a consequence, you may observe unexpected behavior. Please pass your input's `attention_mask` to obtain reliable results.\n",
      "Setting `pad_token_id` to `eos_token_id`:2 for open-end generation.\n",
      "A decoder-only architecture is being used, but right-padding was detected! For correct generation results, please set `padding_side='left'` when initializing the tokenizer.\n"
     ]
    },
    {
     "name": "stdout",
     "output_type": "stream",
     "text": [
      "output: ми 🔬 Analyzing data... 🕒 It may take some time. I'll be back with results. 📊 Stay tuned! 🔜\n",
      "\n",
      "input: (This may take some time, I'll send you a message when it's done...)\n"
     ]
    },
    {
     "name": "stderr",
     "output_type": "stream",
     "text": [
      "The attention mask and the pad token id were not set. As a consequence, you may observe unexpected behavior. Please pass your input's `attention_mask` to obtain reliable results.\n",
      "Setting `pad_token_id` to `eos_token_id`:2 for open-end generation.\n",
      "A decoder-only architecture is being used, but right-padding was detected! For correct generation results, please set `padding_side='left'` when initializing the tokenizer.\n"
     ]
    },
    {
     "name": "stdout",
     "output_type": "stream",
     "text": [
      "output: милград⏳: I'm working on it, 🔄 will keep you posted! 📣\n",
      "\n",
      "input: ⚠ WARNING:  you're comparing two periods with different lenghts. The comparison might be unsafe.\n"
     ]
    },
    {
     "name": "stderr",
     "output_type": "stream",
     "text": [
      "The attention mask and the pad token id were not set. As a consequence, you may observe unexpected behavior. Please pass your input's `attention_mask` to obtain reliable results.\n",
      "Setting `pad_token_id` to `eos_token_id`:2 for open-end generation.\n",
      "A decoder-only architecture is being used, but right-padding was detected! For correct generation results, please set `padding_side='left'` when initializing the tokenizer.\n"
     ]
    },
    {
     "name": "stdout",
     "output_type": "stream",
     "text": [
      "output: Great 🌟 mind checking something for me?\n",
      "⚠️️: Attention!\n",
      "You're comparing two time frames of different lengths.\n",
      "🚫 It might not be safe to do so. 🚫\n",
      "Please ensure both periods have the same length before making comparisons. 😊😊\n",
      "\n",
      "input: Some days at the beginning and/or end are missing. 🧐 \n",
      " \n",
      " I removed these for you: \n",
      " - Mar 01 - Mar 05\n"
     ]
    },
    {
     "name": "stderr",
     "output_type": "stream",
     "text": [
      "The attention mask and the pad token id were not set. As a consequence, you may observe unexpected behavior. Please pass your input's `attention_mask` to obtain reliable results.\n",
      "Setting `pad_token_id` to `eos_token_id`:2 for open-end generation.\n",
      "A decoder-only architecture is being used, but right-padding was detected! For correct generation results, please set `padding_side='left'` when initializing the tokenizer.\n"
     ]
    },
    {
     "name": "stdout",
     "output_type": "stream",
     "text": [
      "output: great 🌟, here's an update:\n",
      "\n",
      "I've taken out these specific days for you: 📅\n",
      "- Mar 01 - Mar 05 🔄\n",
      "\n",
      "input: ⚠ FOOD: In the chart below you can see how different foods contributes to your intake:\n"
     ]
    },
    {
     "name": "stderr",
     "output_type": "stream",
     "text": [
      "The attention mask and the pad token id were not set. As a consequence, you may observe unexpected behavior. Please pass your input's `attention_mask` to obtain reliable results.\n",
      "Setting `pad_token_id` to `eos_token_id`:2 for open-end generation.\n",
      "A decoder-only architecture is being used, but right-padding was detected! For correct generation results, please set `padding_side='left'` when initializing the tokenizer.\n"
     ]
    },
    {
     "name": "stdout",
     "output_type": "stream",
     "text": [
      "output: Great 📊 here's a peek at how various foods affect your daily consumption:\n",
      "![Chart Emoji](https://emojis.slack-edge.com/TQFUS/food_chart_macro.png)\n",
      "\n",
      "input: ⚠ TREND: you should get more carbohydrates, but you're slightly decreasing it .\n",
      " It would be better to revert this. 🧐 \n"
     ]
    },
    {
     "name": "stderr",
     "output_type": "stream",
     "text": [
      "The attention mask and the pad token id were not set. As a consequence, you may observe unexpected behavior. Please pass your input's `attention_mask` to obtain reliable results.\n",
      "Setting `pad_token_id` to `eos_token_id`:2 for open-end generation.\n",
      "A decoder-only architecture is being used, but right-padding was detected! For correct generation results, please set `padding_side='left'` when initializing the tokenizer.\n"
     ]
    },
    {
     "name": "stdout",
     "output_type": "stream",
     "text": [
      "output: ми👉 You've been decreasing your carbohydrate intake, but it would be better to increase it instead. 🤯\n",
      "\n",
      "input: ⚠ CONSISTENCY: Your daily intake seems pretty variable: try to eat similar amounts every day. 🧐\n"
     ]
    },
    {
     "name": "stderr",
     "output_type": "stream",
     "text": [
      "The attention mask and the pad token id were not set. As a consequence, you may observe unexpected behavior. Please pass your input's `attention_mask` to obtain reliable results.\n",
      "Setting `pad_token_id` to `eos_token_id`:2 for open-end generation.\n",
      "A decoder-only architecture is being used, but right-padding was detected! For correct generation results, please set `padding_side='left'` when initializing the tokenizer.\n"
     ]
    },
    {
     "name": "stdout",
     "output_type": "stream",
     "text": [
      "output: миръ эмoji: 😕 Your daily food intake shows some variation: strive for more consistency. 📊\n",
      "\n",
      "input: ✅ TREND: you should get more sodium, in fact you're lightly increasing it .\n",
      " This is the right way to go. ☺️ \n",
      " \n",
      " ⚠ CONSISTENCY: I see high variability in your daily intake: you should try to avoid changing it so often 🧐\n"
     ]
    },
    {
     "name": "stderr",
     "output_type": "stream",
     "text": [
      "The attention mask and the pad token id were not set. As a consequence, you may observe unexpected behavior. Please pass your input's `attention_mask` to obtain reliable results.\n",
      "Setting `pad_token_id` to `eos_token_id`:2 for open-end generation.\n",
      "A decoder-only architecture is being used, but right-padding was detected! For correct generation results, please set `padding_side='left'` when initializing the tokenizer.\n"
     ]
    },
    {
     "name": "stdout",
     "output_type": "stream",
     "text": [
      "output: ми 📈 You're on an upward trend with your sodium intake! Keep it up, you're on the right track. ☺️\n",
      "\n",
      "🔁 However, be mindful of the inconsistency in your daily sodium intake. Try to maintain some regularity. 🧐\n",
      "\n",
      "input: ⚠ TREND: you should keep your actual energy intake, instead you're slightly decreasing it .\n",
      " This is ok for now but better stabilise it to preserve this result 🤔 \n",
      " 📈 PROGRESS: The trend is about the same as before 🤔 \n",
      " \n",
      " ✅ CONSISTENCY: Your daily intake looks regular, good job! 😁 \n",
      " 📈 PROGRESS: The consistency didn't really change 🤔\n"
     ]
    },
    {
     "name": "stderr",
     "output_type": "stream",
     "text": [
      "The attention mask and the pad token id were not set. As a consequence, you may observe unexpected behavior. Please pass your input's `attention_mask` to obtain reliable results.\n",
      "Setting `pad_token_id` to `eos_token_id`:2 for open-end generation.\n",
      "A decoder-only architecture is being used, but right-padding was detected! For correct generation results, please set `padding_side='left'` when initializing the tokenizer.\n"
     ]
    },
    {
     "name": "stdout",
     "output_type": "stream",
     "text": [
      "output: ми ⚠️ You're currently consuming less energy than before, 📉 but try to maintain your intake for consistent results, 🔄\n",
      "👉 Your daily energy consumption remains consistent, keep up the good work, 👍🏽 💡\n",
      "📈 Progress: The trend and consistency of your energy intake remain about the same, 🤔 📈\n",
      "\n",
      "input: 🍖 PROTEIN 🍖 \n",
      " \n",
      " ⚠ ON AVERAGE: You had 83% (17% deficit). It should be more, we'll have to work on it. 🧐\n",
      " \n",
      " \n",
      " ⚠ TOUGHEST DAY: April 28, your intake was 52% (48% missing). It's not enough, we have to address this. 🧐\n"
     ]
    },
    {
     "name": "stderr",
     "output_type": "stream",
     "text": [
      "The attention mask and the pad token id were not set. As a consequence, you may observe unexpected behavior. Please pass your input's `attention_mask` to obtain reliable results.\n",
      "Setting `pad_token_id` to `eos_token_id`:2 for open-end generation.\n",
      "A decoder-only architecture is being used, but right-padding was detected! For correct generation results, please set `padding_side='left'` when initializing the tokenizer.\n"
     ]
    },
    {
     "name": "stdout",
     "output_type": "stream",
     "text": [
      "output: мированый\\_бутерброд 🍔 \\ud83c\\udf0f PROTEIN \\ud83c\\udf0f ⚠️\n",
      "\n",
      "\\ud83d\\ude2e You had 83% 📊 (17% deficit) \\ud83d\\ude2e. Needs improvement! 🧐\n",
      "\n",
      "\\ud83d\\ude2e April 28: 52% 📊 (48% missing) \\ud83d\\ude2e. We need to work on this day. 🧐\n",
      "\n",
      "input: 🍬 SUGAR 🍬 \n",
      " \n",
      " ⚠ ON AVERAGE: You got 55% (45% missing). You need to increase it, we have to address this. 🤔\n",
      " \n",
      " \n",
      " ⚠ TOUGHEST DAY: April 26, your intake was 32% (68% missing). It's not enough, we have to address this. 🤔\n"
     ]
    },
    {
     "name": "stderr",
     "output_type": "stream",
     "text": [
      "The attention mask and the pad token id were not set. As a consequence, you may observe unexpected behavior. Please pass your input's `attention_mask` to obtain reliable results.\n",
      "Setting `pad_token_id` to `eos_token_id`:2 for open-end generation.\n",
      "A decoder-only architecture is being used, but right-padding was detected! For correct generation results, please set `padding_side='left'` when initializing the tokenizer.\n"
     ]
    },
    {
     "name": "stdout",
     "output_type": "stream",
     "text": [
      "output: мироглификация: 🍬 SUGAR 🍬\n",
      "\n",
      "❗️ АВГАРДИСХИД: Составил 55% (45% недостаточно). Нужно увеличить, нужно решать это. 🤔\n",
      "\n",
      "❗️ САМЫЙ ТРЕБОВАТЕЛЬНЫЙ ДЕНЬ: К 26 апр. Ваш уровень потребления составлял 32% (68% недостаточно). Недостаточно, нужно решать это. 🤔\n",
      "\n",
      "Translation:\n",
      "Sweet emojis: 🍬 SUGAR 🍬\n",
      "\n",
      "⚠️ AVERAGE: You had 55%, which is 45% less. You need to increase it, we have to address this. 🤔\n",
      "\n",
      "⚠️ TOUGHEST DAY: On April 26, your intake was 32%, which is 68% less. It's not enough, we have to address\n",
      "\n",
      "input: 🔥 ENERGY 🔥 \n",
      " \n",
      " ✅ ON AVERAGE: I see a good balance in your energy intake. Well done! 😃 \n",
      " 📈 PROGRESS: The average energy intake is about the same as before 🧐 \n",
      " \n",
      " ⚠ TOUGHEST DAY: April 17, your intake was 51% (49% missing). It's not enough, we have to address this. 🧐\n",
      " 📈 PROGRESS: The intake for most off-plan day is about the same as before 🧐\n",
      "output: мирование Энергия/////////\n",
      "\n",
      "✅ БАЛАНС: Твой баланс энергии в среднем впечатляет! 😊\n",
      "📈 ПРОГРЕСС: Среднее потребление энергии примерно такое же, как раньше 🤔\n",
      "\n",
      "⚠ ХУДШИЙ ДЕНЬ: 17 апреля - потребление составляло 51% (осталось 49%). Нужно решать эту проблему. 🧐\n",
      "📈 ПРОГРЕСС: Потребление энергии на днях, которые не соответствовали плану, примерно такое же, как раньше 🧐\n",
      "\n"
     ]
    }
   ],
   "source": [
    "for message in messages: # 3:30\n",
    "    print('input:', message)\n",
    "    context = [\n",
    "        {\"role\": \"user\", \"content\": REPHRASING_PROMPT + '\\n' + message},\n",
    "        {\"role\": \"assistant\", \"content\": \"Response:\\n\"},\n",
    "    ]\n",
    "\n",
    "    input_ids = tokenizer.apply_chat_template(\n",
    "        context,\n",
    "        add_generation_prompt=True,\n",
    "        return_tensors=\"pt\"\n",
    "    ).to(model.device)\n",
    "\n",
    "    outputs = model.generate(\n",
    "        input_ids,\n",
    "        max_new_tokens=256,\n",
    "        pad_token_id=tokenizer.eos_token_id,\n",
    "        do_sample=True,\n",
    "        temperature=0.6,\n",
    "        top_p=0.9,\n",
    "    )\n",
    "    response = outputs[0][input_ids.shape[-1]:]\n",
    "    print('output:', tokenizer.decode(response, skip_special_tokens=True))\n",
    "    \n",
    "    print()"
   ]
  },
  {
   "cell_type": "markdown",
   "metadata": {},
   "source": [
    "## Gemma"
   ]
  },
  {
   "cell_type": "code",
   "execution_count": null,
   "metadata": {},
   "outputs": [],
   "source": [
    "REPHRASING_PROMPT = \"Without assuming any dates but keeping numbers, rephrase the following message in a more natural way.\""
   ]
  },
  {
   "cell_type": "markdown",
   "metadata": {},
   "source": [
    "### Full Model"
   ]
  },
  {
   "cell_type": "code",
   "execution_count": null,
   "metadata": {},
   "outputs": [
    {
     "name": "stderr",
     "output_type": "stream",
     "text": [
      "Gemma's activation function should be approximate GeLU and not exact GeLU.\n",
      "Changing the activation function to `gelu_pytorch_tanh`.if you want to use the legacy `gelu`, edit the `model.config` to set `hidden_activation=gelu`   instead of `hidden_act`. See https://github.com/huggingface/transformers/pull/29402 for more details.\n",
      "Loading checkpoint shards: 100%|██████████| 4/4 [00:50<00:00, 12.65s/it]\n",
      "WARNING:root:Some parameters are on the meta device device because they were offloaded to the cpu.\n"
     ]
    }
   ],
   "source": [
    "tokenizer = AutoTokenizer.from_pretrained(\"google/gemma-7b-it\")\n",
    "model = AutoModelForCausalLM.from_pretrained(\n",
    "    \"google/gemma-7b-it\",\n",
    "    device_map=\"auto\",\n",
    "    torch_dtype=torch.bfloat16\n",
    ")"
   ]
  },
  {
   "cell_type": "code",
   "execution_count": null,
   "metadata": {},
   "outputs": [
    {
     "name": "stdout",
     "output_type": "stream",
     "text": [
      "input: I'm checking your data: \n",
      " \n",
      " - from Apr 27 2024 \n",
      " \n",
      " and getting the insights... 🔎\n",
      "output: Sure, here is the rephrased message:\n",
      "\n",
      "\"I'm checking your data from **Apr 27 2024** and getting the insights... 🔎\"\n",
      "\n",
      "input: I'm checking your data: \n",
      " \n",
      " - from Apr 22 2024 to Apr 28 2024 \n",
      " \n",
      " and getting the insights... 🔎\n",
      "output: Sure, here is the rephrased message with the dates preserved:\n",
      "\n",
      "Hey, I'm checking your data from **Apr 22 2024** to **Apr 28 2024** and getting the insights... 🔎\n",
      "\n",
      "input: I'm analysing your data: \n",
      " \n",
      " - from Mar 01 2024 to Mar 31 2024 \n",
      " - and from Apr 01 2024 to Apr 30 2024 \n",
      " \n",
      " and checking what changed... 🔎\n",
      "output: Sure, here is the rephrased message with the mentioned dates preserved:\n",
      "\n",
      "\"I'm analyzing your data from Mar 01 2024 to Mar 31 2024 and from Apr 01 2024 to Apr 30 2024. I'm checking what changed... 🔎\"\n",
      "\n",
      "input: Your diary looks empty for this period 🤔\n",
      "output: Sure, here's the rephrased message for the user:\n",
      "\n",
      "Your diary is currently empty for this period 🤔.\n",
      "\n",
      "input: come back when you put some data in your diary ☺️\n",
      "output: Sure, here is the rephrased message with the original dates:\n",
      "\n",
      "\"Come back when you've put some data in your diary, and I'll be waiting for you! 😊\"\n",
      "\n",
      "input: Ok, let me analyse your data some more... 🔎\n",
      "output: Sure, here is the rephrased message:\n",
      "\n",
      "\"I'm still analyzing your data, 🔎. I'll get back to you soon with my findings.\"\n",
      "\n",
      "input: Okay, will be back soon with more info... 🔎\n",
      "output: Sure, here's the rephrased message:\n",
      "\n",
      "\"Okay, I'll be back soon with more info... 🔎 See you soon!\"\n",
      "\n",
      "input: (Advanced analysis requires time, I'll be back when I'm done...)\n",
      "output: Sure, here is the rephrased message:\n",
      "\n",
      "\"Advanced analysis takes time. I'm currently working on it and I'll be back when I'm finished. ⏳\"\n",
      "\n",
      "input: (This may take some time, I'll send you a message when it's done...)\n",
      "output: Sure, here's the rephrased message:\n",
      "\n",
      "\"This may take a while, I'll let you know when it's finished. ⏳\"\n",
      "\n",
      "input: ⚠ WARNING:  you're comparing two periods with different lenghts. The comparison might be unsafe.\n",
      "output: Sure, here is the rephrased message with the original dates:\n",
      "\n",
      "⚠️ Warning: You're comparing two periods with different lengths. The comparison might be unsafe. 🤔\n",
      "\n",
      "input: Some days at the beginning and/or end are missing. 🧐 \n",
      " \n",
      " I removed these for you: \n",
      " - Mar 01 - Mar 05\n",
      "output: Sure, here's the rephrased message:\n",
      "\n",
      "Some days at the beginning and/or end are missing. 🧐\n",
      "\n",
      "I removed:\n",
      "\n",
      "- Mar 01 - Mar 05\n",
      "\n",
      "No other changes were made.\n",
      "\n",
      "input: ⚠ FOOD: In the chart below you can see how different foods contributes to your intake:\n",
      "output: Sure, here is the rephrased message with the mentioned dates preserved:\n",
      "\n",
      "⚠ FOOD: In the chart below, you can see how different foods contribute to your intake on [Date] and [Date].\n",
      "\n",
      "input: ⚠ TREND: you should get more carbohydrates, but you're slightly decreasing it .\n",
      " It would be better to revert this. 🧐 \n",
      "output: Sure, here is the rephrased message:\n",
      "\n",
      "⚠ TREND: You should increase your carbohydrates, but you're slightly decreasing it. 🤔 It would be better to revert this trend. 🧐\n",
      "\n",
      "input: ⚠ CONSISTENCY: Your daily intake seems pretty variable: try to eat similar amounts every day. 🧐\n",
      "output: Sure, here is the rephrased message:\n",
      "\n",
      "⚠ CONSISTENCY: Your daily intake is a bit all over the place lately 🤔. Try to eat similar amounts every day for a more consistent routine 🍽️.\n",
      "\n",
      "input: ✅ TREND: you should get more sodium, in fact you're lightly increasing it .\n",
      " This is the right way to go. ☺️ \n",
      " \n",
      " ⚠ CONSISTENCY: I see high variability in your daily intake: you should try to avoid changing it so often 🧐\n",
      "output: Sure, here is the rephrased message:\n",
      "\n",
      "✅ TREND: You should increase your sodium intake, it's going in the right direction! 👍\n",
      "\n",
      "⚠ CONSISTENCY: I see a lot of variability in your daily intake, try to keep it more consistent. 😟\n",
      "\n",
      "input: ⚠ TREND: you should keep your actual energy intake, instead you're slightly decreasing it .\n",
      " This is ok for now but better stabilise it to preserve this result 🤔 \n",
      " 📈 PROGRESS: The trend is about the same as before 🤔 \n",
      " \n",
      " ✅ CONSISTENCY: Your daily intake looks regular, good job! 😁 \n",
      " 📈 PROGRESS: The consistency didn't really change 🤔\n",
      "output: Sure, here is the rephrased message:\n",
      "\n",
      "**Hey, you! 👋**\n",
      "\n",
      "**TREND:** You're slightly decreasing your actual energy intake compared to your previous trend ⚠. While this is okay for now, it's better to stabilize it to preserve your current results 🤔.\n",
      "\n",
      "**Consistency:** Your daily intake looks regular, good job! 😁\n",
      "\n",
      "**Progress:** The trend is about the same as before 🤔 and the consistency didn't really change 📈. Keep up the good work! 🎉\n",
      "\n",
      "input: 🍖 PROTEIN 🍖 \n",
      " \n",
      " ⚠ ON AVERAGE: You had 83% (17% deficit). It should be more, we'll have to work on it. 🧐\n",
      " \n",
      " \n",
      " ⚠ TOUGHEST DAY: April 28, your intake was 52% (48% missing). It's not enough, we have to address this. 🧐\n",
      "output: Sure, here's the rephrased message:\n",
      "\n",
      "🍖 PROTEIN 🍖\n",
      "\n",
      "⚠ ON AVERAGE: You had 83% (17% deficit) protein intake today. We need to increase your intake, we'll have to work on it. 🧐\n",
      "\n",
      "⚠ TOUGHEST DAY: April 28, your intake was 52% (48% missing). This is not enough, we have to address this. 🧐\n",
      "\n",
      "input: 🍬 SUGAR 🍬 \n",
      " \n",
      " ⚠ ON AVERAGE: You got 55% (45% missing). You need to increase it, we have to address this. 🤔\n",
      " \n",
      " \n",
      " ⚠ TOUGHEST DAY: April 26, your intake was 32% (68% missing). It's not enough, we have to address this. 🤔\n",
      "output: Sure, here's the rephrased message with the mentioned dates:\n",
      "\n",
      "🍬 Sugar 🍬\n",
      "\n",
      "⚠ ON AVERAGE: You've got 55% (45% missing). We need to increase your intake, ASAP. 🤔\n",
      "\n",
      "⚠ TOUGHEST DAY: April 26, your intake was 32% (68% missing). It's not enough, we have to address this. 🤔\n",
      "\n",
      "input: 🔥 ENERGY 🔥 \n",
      " \n",
      " ✅ ON AVERAGE: I see a good balance in your energy intake. Well done! 😃 \n",
      " 📈 PROGRESS: The average energy intake is about the same as before 🧐 \n",
      " \n",
      " ⚠ TOUGHEST DAY: April 17, your intake was 51% (49% missing). It's not enough, we have to address this. 🧐\n",
      " 📈 PROGRESS: The intake for most off-plan day is about the same as before 🧐\n",
      "output: Sure, here is the rephrased message to the user, keeping all mentioned dates:\n",
      "\n",
      "🔥 ENERGY 🔥\n",
      "\n",
      "✅ ON AVERAGE: Your energy intake is well-balanced! 💪\n",
      "\n",
      "📈 PROGRESS: The average energy intake is similar to previous days. 👍\n",
      "\n",
      "⚠ TOUGHEST DAY: On April 17th, your intake was 51% (49% missing). We need to work on this together. 🤝\n",
      "\n",
      "📈 PROGRESS: The average intake for most off-plan day is similar to previous days. 👍\n",
      "\n"
     ]
    }
   ],
   "source": [
    "for message in messages: # 15:20\n",
    "    print('input:', message)\n",
    "    context = [\n",
    "        {\"role\": \"user\", \"content\": REPHRASING_PROMPT + '\\n' + message},\n",
    "        {\"role\": \"model\", \"content\": \"Response: \"},\n",
    "    ]\n",
    "\n",
    "    input_ids = tokenizer.apply_chat_template(\n",
    "        context,\n",
    "        add_generation_prompt=True,\n",
    "        return_tensors=\"pt\"\n",
    "    ).to(model.device)\n",
    "\n",
    "    outputs = model.generate(\n",
    "        input_ids,\n",
    "        max_new_tokens=256,\n",
    "        do_sample=True,\n",
    "        temperature=0.6,\n",
    "        top_p=0.9,\n",
    "    )\n",
    "    response = outputs[0][input_ids.shape[-1]:]\n",
    "    print('output:', tokenizer.decode(response, skip_special_tokens=True))\n",
    "    \n",
    "    print()"
   ]
  },
  {
   "cell_type": "markdown",
   "metadata": {},
   "source": [
    "### 4-bit Model"
   ]
  },
  {
   "cell_type": "code",
   "execution_count": null,
   "metadata": {},
   "outputs": [
    {
     "name": "stderr",
     "output_type": "stream",
     "text": [
      "`low_cpu_mem_usage` was None, now set to True since model is quantized.\n",
      "Gemma's activation function should be approximate GeLU and not exact GeLU.\n",
      "Changing the activation function to `gelu_pytorch_tanh`.if you want to use the legacy `gelu`, edit the `model.config` to set `hidden_activation=gelu`   instead of `hidden_act`. See https://github.com/huggingface/transformers/pull/29402 for more details.\n",
      "Loading checkpoint shards: 100%|██████████| 4/4 [00:44<00:00, 11.21s/it]\n"
     ]
    }
   ],
   "source": [
    "tokenizer = AutoTokenizer.from_pretrained(\"google/gemma-7b-it\")\n",
    "model = AutoModelForCausalLM.from_pretrained(\n",
    "    \"google/gemma-7b-it\",\n",
    "    quantization_config=bnb_config\n",
    ")"
   ]
  },
  {
   "cell_type": "code",
   "execution_count": null,
   "metadata": {},
   "outputs": [
    {
     "name": "stdout",
     "output_type": "stream",
     "text": [
      "input: I'm checking your data: \n",
      " \n",
      " - from Apr 27 2024 \n",
      " \n",
      " and getting the insights... 🔎\n",
      "output: Sure, here is the rephrased message:\n",
      "\n",
      "I'm checking your data from **Apr 27 2024** and getting the insights... 🔎\n",
      "\n",
      "input: I'm checking your data: \n",
      " \n",
      " - from Apr 22 2024 to Apr 28 2024 \n",
      " \n",
      " and getting the insights... 🔎\n",
      "output: Sure, here is the rephrased message:\n",
      "\n",
      "I'm checking your data from **Apr 22 2024** to **Apr 28 2024** and getting the insights... 🔎\n",
      "\n",
      "input: I'm analysing your data: \n",
      " \n",
      " - from Mar 01 2024 to Mar 31 2024 \n",
      " - and from Apr 01 2024 to Apr 30 2024 \n",
      " \n",
      " and checking what changed... 🔎\n",
      "output: Sure, here's the rephrased message:\n",
      "\n",
      "I'm analyzing your data:\n",
      "\n",
      "- from **Mar 01 2024** to **Mar 31 2024**\n",
      "- and from **Apr 01 2024** to **Apr 30 2024**\n",
      "\n",
      "And checking what changed... 🔎\n",
      "\n",
      "input: Your diary looks empty for this period 🤔\n",
      "output: Sure, here is the rephrased message:\n",
      "\n",
      "Your diary is currently empty for this period. 🤔 Is there anything you'd like to add?\n",
      "\n",
      "input: come back when you put some data in your diary ☺️\n",
      "output: Sure, here is the rephrased message:\n",
      "\n",
      "Come back when you have put some data in your diary. 📝😊\n",
      "\n",
      "input: Ok, let me analyse your data some more... 🔎\n",
      "output: Sure, here's the rephrased message:\n",
      "\n",
      "\"I'm still analyzing your data... 🔎 Can I continue with the analysis based on the previously mentioned dates?\"\n",
      "\n",
      "input: Okay, will be back soon with more info... 🔎\n",
      "output: Okay, I'll be back soon with more info 🔎. See you later!\n",
      "\n",
      "input: (Advanced analysis requires time, I'll be back when I'm done...)\n",
      "output: Sure, here's the rephrased message:\n",
      "\n",
      "\"Advanced analysis takes time, so I'm busy finishing up and will be back when I'm done. ⏳\"\n",
      "\n",
      "input: (This may take some time, I'll send you a message when it's done...)\n",
      "output: Sure, here is the rephrased message:\n",
      "\n",
      "\"This may take a while, I'll let you know when it's finished. ⏳\"\n",
      "\n",
      "input: ⚠ WARNING:  you're comparing two periods with different lenghts. The comparison might be unsafe.\n",
      "output: Sure, here is the rephrased message:\n",
      "\n",
      "⚠ WARNING: You're comparing two periods with different lengths. The comparison might be unsafe. ⚠️\n",
      "\n",
      "input: Some days at the beginning and/or end are missing. 🧐 \n",
      " \n",
      " I removed these for you: \n",
      " - Mar 01 - Mar 05\n",
      "output: Sure, here is the rephrased message with the dates preserved:\n",
      "\n",
      "Some days at the beginning and/or end are missing. 🧐\n",
      "\n",
      "I removed:\n",
      "\n",
      "- Mar 01 - Mar 05\n",
      "\n",
      "input: ⚠ FOOD: In the chart below you can see how different foods contributes to your intake:\n",
      "output: Sure, here's the rephrased message with the original dates:\n",
      "\n",
      "⚠ FOOD: In the chart below, you can see how different foods contribute to your intake on [Date] and [Date].\n",
      "\n",
      "input: ⚠ TREND: you should get more carbohydrates, but you're slightly decreasing it .\n",
      " It would be better to revert this. 🧐 \n",
      "output: Sure, here is the rephrased message:\n",
      "\n",
      "⚠ TREND: You're slightly decreasing your carbs, but should increase them. 📈 It would be better to revert this trend. 🧐\n",
      "\n",
      "input: ⚠ CONSISTENCY: Your daily intake seems pretty variable: try to eat similar amounts every day. 🧐\n",
      "output: Sure, here's the rephrased message:\n",
      "\n",
      "⚠ CONSISTENCY: Your daily food intake is a bit all over the place lately. 🤔 Can you try to eat similar amounts every day? 🍽️\n",
      "\n",
      "input: ✅ TREND: you should get more sodium, in fact you're lightly increasing it .\n",
      " This is the right way to go. ☺️ \n",
      " \n",
      " ⚠ CONSISTENCY: I see high variability in your daily intake: you should try to avoid changing it so often 🧐\n",
      "output: Sure, here is the rephrased message, keeping the mentioned dates:\n",
      "\n",
      "✅ TREND: You should increase your sodium intake a bit. It's a good trend 👍\n",
      "\n",
      "⚠ CONSISTENCY: I see a lot of variability in your daily sodium intake. Try to keep it more consistent 🙏\n",
      "\n",
      "input: ⚠ TREND: you should keep your actual energy intake, instead you're slightly decreasing it .\n",
      " This is ok for now but better stabilise it to preserve this result 🤔 \n",
      " 📈 PROGRESS: The trend is about the same as before 🤔 \n",
      " \n",
      " ✅ CONSISTENCY: Your daily intake looks regular, good job! 😁 \n",
      " 📈 PROGRESS: The consistency didn't really change 🤔\n",
      "output: Sure, here is the rephrased message with the dates preserved:\n",
      "\n",
      "⚠ TREND: You're slightly decreasing your actual energy intake, which is ok for now, but better stabilize it to preserve this result 🤔.\n",
      "\n",
      "📈 PROGRESS: The trend is about the same as before 🤔.\n",
      "\n",
      "✅ CONSISTENCY: Your daily intake looks regular, good job! 😁\n",
      "\n",
      "📈 PROGRESS: The consistency didn't really change 🤔.\n",
      "\n",
      "input: 🍖 PROTEIN 🍖 \n",
      " \n",
      " ⚠ ON AVERAGE: You had 83% (17% deficit). It should be more, we'll have to work on it. 🧐\n",
      " \n",
      " \n",
      " ⚠ TOUGHEST DAY: April 28, your intake was 52% (48% missing). It's not enough, we have to address this. 🧐\n",
      "output: Sure, here's the rephrased message:\n",
      "\n",
      "🍖 PROTEIN 🍖\n",
      "\n",
      "⚠ ON AVERAGE: You had 83% (17% deficit) protein intake today. We need to work on increasing your intake, it should be more. 🧐\n",
      "\n",
      "⚠ TOUGHEST DAY: April 28, your intake was 52% (48% missing). It's not enough, we have to address this. 🧐\n",
      "\n",
      "input: 🍬 SUGAR 🍬 \n",
      " \n",
      " ⚠ ON AVERAGE: You got 55% (45% missing). You need to increase it, we have to address this. 🤔\n",
      " \n",
      " \n",
      " ⚠ TOUGHEST DAY: April 26, your intake was 32% (68% missing). It's not enough, we have to address this. 🤔\n",
      "output: Sure, here is the rephrased message:\n",
      "\n",
      "🍬 Sugar 🍬\n",
      "\n",
      "⚠ ON AVERAGE: You're missing 55% (45% missing). We need to increase your intake, ASAP. 🤔\n",
      "\n",
      "⚠ TOUGHEST DAY: April 26, your intake was 32% (68% missing). It's not enough, we have to address this. 🤔\n",
      "\n",
      "input: 🔥 ENERGY 🔥 \n",
      " \n",
      " ✅ ON AVERAGE: I see a good balance in your energy intake. Well done! 😃 \n",
      " 📈 PROGRESS: The average energy intake is about the same as before 🧐 \n",
      " \n",
      " ⚠ TOUGHEST DAY: April 17, your intake was 51% (49% missing). It's not enough, we have to address this. 🧐\n",
      " 📈 PROGRESS: The intake for most off-plan day is about the same as before 🧐\n",
      "output: Sure, here is the rephrased message:\n",
      "\n",
      "🔥 ENERGY 🔥\n",
      "\n",
      "✅ ON AVERAGE: You're doing well with your energy intake, it's on average the same as before 🎉\n",
      "\n",
      "📈 PROGRESS: The average energy intake for most off-plan day is about the same as before 🧐\n",
      "\n",
      "⚠ TOUGHEST DAY: On April 17th, your intake was 51% (49% missing). We need to address this ASAP to ensure optimal energy levels. 😟\n",
      "\n"
     ]
    }
   ],
   "source": [
    "for message in messages: # 2:25\n",
    "    print('input:', message)\n",
    "    context = [\n",
    "        {\"role\": \"user\", \"content\": REPHRASING_PROMPT + '\\n' + message},\n",
    "        {\"role\": \"model\", \"content\": \"Response: \"},\n",
    "    ]\n",
    "\n",
    "    input_ids = tokenizer.apply_chat_template(\n",
    "        context,\n",
    "        add_generation_prompt=True,\n",
    "        return_tensors=\"pt\"\n",
    "    ).to(model.device)\n",
    "\n",
    "    outputs = model.generate(\n",
    "        input_ids,\n",
    "        max_new_tokens=256,\n",
    "        do_sample=True,\n",
    "        temperature=0.6,\n",
    "        top_p=0.9,\n",
    "    )\n",
    "    response = outputs[0][input_ids.shape[-1]:]\n",
    "    print('output:', tokenizer.decode(response, skip_special_tokens=True))\n",
    "    \n",
    "    print()"
   ]
  },
  {
   "cell_type": "markdown",
   "metadata": {},
   "source": [
    "### 2b"
   ]
  },
  {
   "cell_type": "code",
   "execution_count": null,
   "metadata": {},
   "outputs": [
    {
     "name": "stderr",
     "output_type": "stream",
     "text": [
      "Gemma's activation function should be approximate GeLU and not exact GeLU.\n",
      "Changing the activation function to `gelu_pytorch_tanh`.if you want to use the legacy `gelu`, edit the `model.config` to set `hidden_activation=gelu`   instead of `hidden_act`. See https://github.com/huggingface/transformers/pull/29402 for more details.\n",
      "Loading checkpoint shards: 100%|██████████| 2/2 [00:17<00:00,  8.62s/it]\n"
     ]
    }
   ],
   "source": [
    "tokenizer = AutoTokenizer.from_pretrained(\"google/gemma-2b-it\")\n",
    "model = AutoModelForCausalLM.from_pretrained(\n",
    "    \"google/gemma-2b-it\",\n",
    "    device_map=\"auto\",\n",
    "    # torch_dtype=torch.bfloat16\n",
    ")"
   ]
  },
  {
   "cell_type": "code",
   "execution_count": null,
   "metadata": {},
   "outputs": [
    {
     "name": "stdout",
     "output_type": "stream",
     "text": [
      "input: I'm checking your data: \n",
      " \n",
      " - from Apr 27 2024 \n",
      " \n",
      " and getting the insights... 🔎\n",
      "output: Hey there! 👋\n",
      "\n",
      "I'm taking a peek at your data from April 27, 2024. Let me analyze it and give you some insights! 🤔\n",
      "\n",
      "input: I'm checking your data: \n",
      " \n",
      " - from Apr 22 2024 to Apr 28 2024 \n",
      " \n",
      " and getting the insights... 🔎\n",
      "output: Sure, here's the rephrased message:\n",
      "\n",
      "🚨 Your data is being checked from April 22nd to April 28th, 2024! 🚨\n",
      "\n",
      "Let us know what you find out! 👀\n",
      "\n",
      "input: I'm analysing your data: \n",
      " \n",
      " - from Mar 01 2024 to Mar 31 2024 \n",
      " - and from Apr 01 2024 to Apr 30 2024 \n",
      " \n",
      " and checking what changed... 🔎\n",
      "output: Sure, here is the rephrased message:\n",
      "\n",
      "🚨 Data Analysis: 🚨\n",
      "\n",
      "- From Mar 01 to Mar 31, 2024 📢\n",
      "- From Apr 01 to Apr 30, 2024 💥\n",
      "\n",
      "I'm analyzing your data to see what changed! 🤔\n",
      "\n",
      "input: Your diary looks empty for this period 🤔\n",
      "output: Your diary looks empty right now 🥺. 🤔\n",
      "\n",
      "input: come back when you put some data in your diary ☺️\n",
      "output: 🤔 Your diary is waiting for some input! 📝 Give it some data, and then come back and check what you've got. 😎\n",
      "\n",
      "input: Ok, let me analyse your data some more... 🔎\n",
      "output: Sure, here is the rephrased message:\n",
      "\n",
      "\"Hey there! I'm taking a peek at your data now. 🔍 It's like a treasure hunt for insights, but with more details. 🔎 What's on your mind for me to explore further?\"\n",
      "\n",
      "input: Okay, will be back soon with more info... 🔎\n",
      "output: Sure, here's the rephrased message:\n",
      "\n",
      "🚨 We're back soon with some exciting news! 🚨\n",
      "\n",
      "Stay tuned for more details. 👀\n",
      "\n",
      "input: (Advanced analysis requires time, I'll be back when I'm done...)\n",
      "output: Sure, here's the rephrased message:\n",
      "\n",
      "🚨 Advanced analysis requires time, I'll be back when I'm done! 🚨\n",
      "\n",
      "Let me know when I can assist you further.\n",
      "\n",
      "input: (This may take some time, I'll send you a message when it's done...)\n",
      "output: Sure, here's the rephrased message:\n",
      "\n",
      "👋 Your message has been sent! 🤩 I'll let you know when it's done. ⏳\n",
      "\n",
      "#StayTuned\n",
      "\n",
      "input: ⚠ WARNING:  you're comparing two periods with different lenghts. The comparison might be unsafe.\n",
      "output: ⚠️ WARNING: Comparing two periods with different lengths could be unsafe. Make sure the periods have the same duration before trying to compare them.\n",
      "\n",
      "input: Some days at the beginning and/or end are missing. 🧐 \n",
      " \n",
      " I removed these for you: \n",
      " - Mar 01 - Mar 05\n",
      "output: Some days at the beginning or end are missing. 🤔\n",
      "\n",
      "I removed these for you:\n",
      "\n",
      "- Mar 01 - Mar 05 🚀\n",
      "\n",
      "input: ⚠ FOOD: In the chart below you can see how different foods contributes to your intake:\n",
      "output: ⚠️ Food! 🍎🍗🥑\n",
      "\n",
      "Check out this chart and see which foods are giving you the most nutrients 💪🍌🍓! 😋\n",
      "\n",
      "input: ⚠ TREND: you should get more carbohydrates, but you're slightly decreasing it .\n",
      " It would be better to revert this. 🧐 \n",
      "output: ⚠️ Trend: Reduce your carbohydrate intake slightly. 🤔\n",
      "\n",
      "It might be better to go back to eating more carbs. 🤔\n",
      "\n",
      "input: ⚠ CONSISTENCY: Your daily intake seems pretty variable: try to eat similar amounts every day. 🧐\n",
      "output: ⚠️ Consistency: Your daily intake seems a bit inconsistent lately. Try eating roughly the same amount of food each day to maintain your health. 🤔\n",
      "\n",
      "input: ✅ TREND: you should get more sodium, in fact you're lightly increasing it .\n",
      " This is the right way to go. ☺️ \n",
      " \n",
      " ⚠ CONSISTENCY: I see high variability in your daily intake: you should try to avoid changing it so often 🧐\n",
      "output: 🎉 You're on the right track! 💪 Keep increasing your sodium intake a little bit at a time. 🥳\n",
      "\n",
      "🤔 Be mindful of how often you adjust your intake. 🤔 Consistency is key to staying healthy!\n",
      "\n",
      "input: ⚠ TREND: you should keep your actual energy intake, instead you're slightly decreasing it .\n",
      " This is ok for now but better stabilise it to preserve this result 🤔 \n",
      " 📈 PROGRESS: The trend is about the same as before 🤔 \n",
      " \n",
      " ✅ CONSISTENCY: Your daily intake looks regular, good job! 😁 \n",
      " 📈 PROGRESS: The consistency didn't really change 🤔\n",
      "output: ⚠ Keep your energy intake the same for now, it's okay to slightly decrease it. 💪\n",
      "\n",
      "This trend is pretty stable, so keep things consistent to maintain this positive result 🤩\n",
      "\n",
      "📈 Progress: The trend is similar to before 🤔\n",
      "\n",
      "✅ Consistency: Your daily intake looks good! 👍\n",
      "\n",
      "📈 Progress: The consistency stayed the same 🤔\n",
      "\n",
      "input: 🍖 PROTEIN 🍖 \n",
      " \n",
      " ⚠ ON AVERAGE: You had 83% (17% deficit). It should be more, we'll have to work on it. 🧐\n",
      " \n",
      " \n",
      " ⚠ TOUGHEST DAY: April 28, your intake was 52% (48% missing). It's not enough, we have to address this. 🧐\n",
      "output: 💪 💪 💪\n",
      "\n",
      "⚠️ Reminder: You're falling behind on your protein intake! 😨\n",
      "\n",
      "😩 It's not as high as it should be, at 83%. We need to figure this out together.\n",
      "\n",
      "😩 The toughest day this week is April 28th, with a shocking 52% of your intake missing! 😭\n",
      "\n",
      "We need to step up our protein game! 💪\n",
      "\n",
      "input: 🍬 SUGAR 🍬 \n",
      " \n",
      " ⚠ ON AVERAGE: You got 55% (45% missing). You need to increase it, we have to address this. 🤔\n",
      " \n",
      " \n",
      " ⚠ TOUGHEST DAY: April 26, your intake was 32% (68% missing). It's not enough, we have to address this. 🤔\n",
      "output: 🚨 SUGAR 🍬\n",
      "\n",
      "⚠️ ON AVERAGE: 55% (45% missing)! 😩 We need to bump it up, it's not enough. 🤔\n",
      "\n",
      "⚠️ TOUGHEST DAY: 🚨 April 26, your intake was 32% (68% missing)! 😭 We need to step up our game. 🤔\n",
      "\n",
      "input: 🔥 ENERGY 🔥 \n",
      " \n",
      " ✅ ON AVERAGE: I see a good balance in your energy intake. Well done! 😃 \n",
      " 📈 PROGRESS: The average energy intake is about the same as before 🧐 \n",
      " \n",
      " ⚠ TOUGHEST DAY: April 17, your intake was 51% (49% missing). It's not enough, we have to address this. 🧐\n",
      " 📈 PROGRESS: The intake for most off-plan day is about the same as before 🧐\n",
      "output: 🔥 🔥\n",
      "\n",
      "✅ Energy balance is 🔥, you're doing great! 🤩\n",
      "\n",
      "📈 Average energy intake is about the same as before 🤔.\n",
      "\n",
      "⚠ Toughest day of the week! 四月 17th, your intake was 51% (49% missing)! 😩 It's not enough, we need to address this. 🤔\n",
      "\n",
      "📈 Most off-plan days have the same energy intake 🤔.\n",
      "\n"
     ]
    }
   ],
   "source": [
    "for message in messages: # ??\n",
    "    print('input:', message)\n",
    "    context = [\n",
    "        {\"role\": \"user\", \"content\": REPHRASING_PROMPT + '\\n' + message},\n",
    "    ]\n",
    "\n",
    "    input_ids = tokenizer.apply_chat_template(\n",
    "        context,\n",
    "        add_generation_prompt=True,\n",
    "        return_tensors=\"pt\"\n",
    "    ).to(model.device)\n",
    "\n",
    "    outputs = model.generate(\n",
    "        input_ids,\n",
    "        max_new_tokens=256,\n",
    "        do_sample=True,\n",
    "        temperature=0.6,\n",
    "        top_p=0.9,\n",
    "    )\n",
    "    response = outputs[0][input_ids.shape[-1]:]\n",
    "    print('output:', tokenizer.decode(response, skip_special_tokens=True))\n",
    "    \n",
    "    print()"
   ]
  },
  {
   "cell_type": "markdown",
   "metadata": {},
   "source": [
    "### Ollama"
   ]
  },
  {
   "cell_type": "code",
   "execution_count": null,
   "metadata": {},
   "outputs": [
    {
     "name": "stdout",
     "output_type": "stream",
     "text": [
      "input: I'm checking your data: \n",
      " \n",
      " - from Apr 27 2024 \n",
      " \n",
      " and getting the insights... 🔎\n",
      "output: Checking your data from Apr 27th 2024... 🔎\n",
      "\n",
      "input: I'm checking your data: \n",
      " \n",
      " - from Apr 22 2024 to Apr 28 2024 \n",
      " \n",
      " and getting the insights... 🔎\n",
      "output: Checking data from April 22 to 28 🗓️ and gathering insights! 🔎\n",
      "\n",
      "input: I'm analysing your data: \n",
      " \n",
      " - from Mar 01 2024 to Mar 31 2024 \n",
      " - and from Apr 01 2024 to Apr 30 2024 \n",
      " \n",
      " and checking what changed... 🔎\n",
      "output:  analizing your data from Mar 1st to Mar 31st and Apr 1st to Apr 30th 🗓️ to see what's changed! 🔎\n",
      "\n",
      "input: Your diary looks empty for this period 🤔\n",
      "output: Your diary is currently blank for this timeframe 📚🤔\n",
      "\n",
      "input: come back when you put some data in your diary ☺️\n",
      "output: Got data for your diary? 😉 Come back when you've added some!\n",
      "\n",
      "input: Ok, let me analyse your data some more... 🔎\n",
      "output: Analysing your data... ⏳\n",
      "\n",
      "input: Okay, will be back soon with more info... 🔎\n",
      "output: Be right back with more deets soon! 💻✨\n",
      "\n",
      "input: (Advanced analysis requires time, I'll be back when I'm done...)\n",
      "output: Advanced analysis taking a bit longer ⏳, be back soon!\n",
      "\n",
      "input: (This may take some time, I'll send you a message when it's done...)\n",
      "output: It's processing ⏳! I'll let you know when it's finished.\n",
      "\n",
      "input: ⚠ WARNING:  you're comparing two periods with different lenghts. The comparison might be unsafe.\n",
      "output: ⚠️ Warning: Comparing periods of different lengths can lead to unreliable results. Be cautious! 🛡️\n",
      "\n",
      "input: Some days at the beginning and/or end are missing. 🧐 \n",
      " \n",
      " I removed these for you: \n",
      " - Mar 01 - Mar 05\n",
      "output: Some initial and/or final days are missing! 🧐 \n",
      "\n",
      "I've removed: \n",
      "- Mar 01 - Mar 05 💪\n",
      "\n",
      "input: ⚠ FOOD: In the chart below you can see how different foods contributes to your intake:\n",
      "output: 💡 FOOD: Check out the chart to see how different foods impact your daily intake! 🍽️\n",
      "\n",
      "input: ⚠ TREND: you should get more carbohydrates, but you're slightly decreasing it .\n",
      " It would be better to revert this. 🧐 \n",
      "output: ⚠ TREND: Your carb intake needs a boost! 🍎 \n",
      "Try to eat more of it for better results. 😉\n",
      "\n",
      "input: ⚠ CONSISTENCY: Your daily intake seems pretty variable: try to eat similar amounts every day. 🧐\n",
      "output: ⚠ Consistency needed! ➡️ Your eating habits seem to change a lot. Aim for more consistent intake throughout the day. 😉\n",
      "\n",
      "input: ✅ TREND: you should get more sodium, in fact you're lightly increasing it .\n",
      " This is the right way to go. ☺️ \n",
      " \n",
      " ⚠ CONSISTENCY: I see high variability in your daily intake: you should try to avoid changing it so often 🧐\n",
      "output: ✅ Good news! Your sodium intake is on the right track 💪. \n",
      "\n",
      "⚠ But be consistent! ⚠️ Your daily intake has been changing a lot lately. Try to keep it more stable for better results. 😉\n",
      "\n",
      "input: ⚠ TREND: you should keep your actual energy intake, instead you're slightly decreasing it .\n",
      " This is ok for now but better stabilise it to preserve this result 🤔 \n",
      " 📈 PROGRESS: The trend is about the same as before 🤔 \n",
      " \n",
      " ✅ CONSISTENCY: Your daily intake looks regular, good job! 😁 \n",
      " 📈 PROGRESS: The consistency didn't really change 🤔\n",
      "output: ⚠ Energy intake is slightly lower than ideal 🤔. \n",
      "📈 Good news, the overall trend is stable! 😎\n",
      "✅ Consistent eating habits 💪. \n",
      "📈 Consistency could be slightly better 😉.\n",
      "\n",
      "input: 🍖 PROTEIN 🍖 \n",
      " \n",
      " ⚠ ON AVERAGE: You had 83% (17% deficit). It should be more, we'll have to work on it. 🧐\n",
      " \n",
      " \n",
      " ⚠ TOUGHEST DAY: April 28, your intake was 52% (48% missing). It's not enough, we have to address this. 🧐\n",
      "output: 🍖 PROTEIN 🍖\n",
      "\n",
      " ⚠ Your protein intake isn't hitting the mark! 💪\n",
      "\n",
      "- On average, you're falling short by 17%, landing at 83%. 📉 Let's work on increasing that! 🏋️‍♀️\n",
      "- April 28th was your toughest day yet! 😨 Your intake was only 52%, missing 48% of your goal. 😱 We need to get that back on track! 🎯\n",
      "\n",
      "input: 🍬 SUGAR 🍬 \n",
      " \n",
      " ⚠ ON AVERAGE: You got 55% (45% missing). You need to increase it, we have to address this. 🤔\n",
      " \n",
      " \n",
      " ⚠ TOUGHEST DAY: April 26, your intake was 32% (68% missing). It's not enough, we have to address this. 🤔\n",
      "output: 🍬 Sugar 🍬\n",
      "\n",
      " ⚠ ON AVERAGE: You're missing 45% of your target! We need to boost that up. 🤔\n",
      "\n",
      " ⚠ APRIL 26th: Your intake was just 32% (68% missing)! Not enough, let's fix this. 🤔\n",
      "\n",
      "input: 🔥 ENERGY 🔥 \n",
      " \n",
      " ✅ ON AVERAGE: I see a good balance in your energy intake. Well done! 😃 \n",
      " 📈 PROGRESS: The average energy intake is about the same as before 🧐 \n",
      " \n",
      " ⚠ TOUGHEST DAY: April 17, your intake was 51% (49% missing). It's not enough, we have to address this. 🧐\n",
      " 📈 PROGRESS: The intake for most off-plan day is about the same as before 🧐\n",
      "output: 🔥 ENERGY 🔥\n",
      "\n",
      "✅ Good news! Your average energy intake is balanced 💪\n",
      "\n",
      "📈 But there's room for improvement! Your energy intake on April 17 was only 51% (49% missing) 🙁 We need to address this ASAP!\n",
      "\n",
      "📈 Overall, your off-plan day intake is similar to before 🧐\n",
      "\n"
     ]
    }
   ],
   "source": [
    "for message in messages:\n",
    "    generate_ollama_output('gemma:7b', message)"
   ]
  }
 ],
 "metadata": {
  "kernelspec": {
   "display_name": "rephrasing",
   "language": "python",
   "name": "python3"
  },
  "language_info": {
   "codemirror_mode": {
    "name": "ipython",
    "version": 3
   },
   "file_extension": ".py",
   "mimetype": "text/x-python",
   "name": "python",
   "nbconvert_exporter": "python",
   "pygments_lexer": "ipython3",
   "version": "3.12.4"
  }
 },
 "nbformat": 4,
 "nbformat_minor": 2
}

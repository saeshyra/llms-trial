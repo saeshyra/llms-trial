{
 "cells": [
  {
   "cell_type": "code",
   "execution_count": 2,
   "metadata": {},
   "outputs": [],
   "source": [
    "import pandas as pd\n",
    "from time import sleep\n",
    "from pytz import timezone\n",
    "from datetime import datetime, timedelta\n",
    "from user_profiling_layer.preferences_management_module import *\n",
    "import seaborn as sns\n",
    "import matplotlib.pyplot as plt"
   ]
  },
  {
   "cell_type": "code",
   "execution_count": 3,
   "metadata": {},
   "outputs": [],
   "source": [
    "interactions = pd.DataFrame(columns=[\n",
    "    'telegram_user',\n",
    "    'group',\n",
    "    'total_num', \n",
    "    'num_past_week', \n",
    "    'num_days_past_week', \n",
    "    'days_past_week',\n",
    "    'all'\n",
    "])"
   ]
  },
  {
   "cell_type": "code",
   "execution_count": null,
   "metadata": {},
   "outputs": [],
   "source": [
    "users = get_all_users_from_db()\n",
    "\n",
    "for telegram_user, mfp_user, _, sender_id, user_group, user_timezone in users:\n",
    "\n",
    "    user_query = f'''\n",
    "        SELECT JSON_UNQUOTE(JSON_EXTRACT(data, '$.timestamp')) AS timestamp\n",
    "        FROM events\n",
    "        WHERE JSON_EXTRACT(data, '$.sender_id') = '{sender_id}'\n",
    "        AND JSON_EXTRACT(data, '$.event') = 'user'\n",
    "        AND JSON_EXTRACT(data, '$.metadata.message.text') NOT LIKE '/%';\n",
    "    '''\n",
    "\n",
    "    with mysql.connector.connect(host='localhost', db='philhumans', user='root', password='root') as connection:\n",
    "        with connection.cursor() as cursor:\n",
    "            cursor.execute(user_query)\n",
    "            rows = cursor.fetchall()\n",
    "\n",
    "    timestamps = [datetime.fromtimestamp(float(row[0])) for row in rows if row]\n",
    "    timestamps.sort(reverse=True)\n",
    "    \n",
    "    if timestamps:\n",
    "        total_num = len(timestamps)\n",
    "        \n",
    "        now = datetime.now()\n",
    "        one_week_ago = now - timedelta(days=8)\n",
    "        \n",
    "        # Filter timestamps from the last week\n",
    "        timestamps_past_week = [ts for ts in timestamps if ts >= one_week_ago]\n",
    "        num_past_week = len(timestamps_past_week)\n",
    "        \n",
    "        # Find unique days of interaction in the last week\n",
    "        days_past_week = set(ts.date().strftime('%m-%d') for ts in timestamps_past_week)\n",
    "        num_days_past_week = len(days_past_week)\n",
    "        \n",
    "        # Convert set to list for recording\n",
    "        days_past_week = sorted(list(days_past_week))\n",
    "        \n",
    "        # Create a DataFrame row with the calculated metrics\n",
    "        new_row = pd.DataFrame([{\n",
    "            'telegram_user': telegram_user,\n",
    "            'group': user_group,\n",
    "            'total_num': total_num,\n",
    "            'num_past_week': num_past_week,\n",
    "            'num_days_past_week': num_days_past_week,\n",
    "            'days_past_week': days_past_week,\n",
    "            'all': timestamps\n",
    "        }])\n",
    "        \n",
    "        # Concatenate the new row to the original DataFrame\n",
    "        interactions = pd.concat([interactions, new_row], ignore_index=True)\n",
    "    else:\n",
    "        # If there are no timestamps, add a row with zeros and empty list\n",
    "        new_row = pd.DataFrame([{\n",
    "            'telegram_user': telegram_user,\n",
    "            'group': user_group,\n",
    "            'total_num': 0,\n",
    "            'num_past_week': 0,\n",
    "            'num_days_past_week': 0,\n",
    "            'days_past_week': [],\n",
    "            'all': []\n",
    "        }])\n",
    "        \n",
    "        # Concatenate the new row to the original DataFrame\n",
    "        interactions = pd.concat([interactions, new_row], ignore_index=True)"
   ]
  },
  {
   "cell_type": "code",
   "execution_count": 5,
   "metadata": {},
   "outputs": [],
   "source": [
    "interactions.to_csv('interactions.csv', index=False)"
   ]
  },
  {
   "cell_type": "code",
   "execution_count": null,
   "metadata": {},
   "outputs": [],
   "source": [
    "interactions[interactions['num_days_past_week']<5].sort_values('num_days_past_week')"
   ]
  },
  {
   "cell_type": "code",
   "execution_count": 7,
   "metadata": {},
   "outputs": [],
   "source": [
    "def print_users_by_interaction_days(df):\n",
    "    for days in range(5):\n",
    "        users_with_days_of_interaction = df[df['num_days_past_week'] == days]['telegram_user'].tolist()\n",
    "        print(f\"Number of users with {days} days of interaction in the past week: {len(users_with_days_of_interaction)}\")\n",
    "        print(f\"Users: {users_with_days_of_interaction}\\n\")"
   ]
  },
  {
   "cell_type": "code",
   "execution_count": null,
   "metadata": {},
   "outputs": [],
   "source": [
    "print_users_by_interaction_days(interactions)"
   ]
  },
  {
   "cell_type": "code",
   "execution_count": null,
   "metadata": {},
   "outputs": [],
   "source": [
    "colors = {\n",
    "    '1': 'lightcoral',\n",
    "    '2': 'sandybrown',\n",
    "    '3': 'khaki'\n",
    "}"
   ]
  },
  {
   "cell_type": "code",
   "execution_count": null,
   "metadata": {},
   "outputs": [],
   "source": [
    "plt.figure(figsize=(10, 6))\n",
    "sns.boxplot(data=interactions, x='group', y='total_num', palette=colors)\n",
    "plt.title('Distribution of Total Interactions per Group')\n",
    "plt.xlabel('Group')\n",
    "plt.ylabel('Total Number of Interactions')\n",
    "plt.show()"
   ]
  },
  {
   "cell_type": "code",
   "execution_count": null,
   "metadata": {},
   "outputs": [],
   "source": [
    "plt.figure(figsize=(10, 6))\n",
    "sns.boxplot(data=interactions, x='group', y='num_days_past_week', palette=colors)\n",
    "plt.title('Distribution of Number of Days of Interaction in the Past Week per Group')\n",
    "plt.xlabel('Group')\n",
    "plt.ylabel('Number of Days of Interaction in the Past Week')\n",
    "plt.show()"
   ]
  },
  {
   "cell_type": "code",
   "execution_count": null,
   "metadata": {},
   "outputs": [],
   "source": [
    "group_interaction_sums = interactions.groupby('group')['total_num'].sum().reset_index()\n",
    "\n",
    "plt.figure(figsize=(10, 6))\n",
    "sns.barplot(data=group_interaction_sums, x='group', y='total_num', palette=colors)\n",
    "plt.title('Total Number of Interactions per Group')\n",
    "plt.xlabel('Group')\n",
    "plt.ylabel('Total Number of Interactions')\n",
    "plt.show()"
   ]
  },
  {
   "cell_type": "code",
   "execution_count": null,
   "metadata": {},
   "outputs": [],
   "source": [
    "group_interaction_avg = interactions.groupby('group')['total_num'].mean().reset_index()\n",
    "\n",
    "plt.figure(figsize=(10, 6))\n",
    "sns.barplot(data=group_interaction_avg, x='group', y='total_num', palette=colors)\n",
    "plt.title('Average Number Interactions per Group')\n",
    "plt.xlabel('Group')\n",
    "plt.ylabel('Average Number of Interactions')\n",
    "plt.show()"
   ]
  },
  {
   "cell_type": "code",
   "execution_count": null,
   "metadata": {},
   "outputs": [],
   "source": [
    "group_days_sums = interactions.groupby('group')['num_days_past_week'].sum().reset_index()\n",
    "\n",
    "plt.figure(figsize=(10, 6))\n",
    "sns.barplot(data=group_days_sums, x='group', y='num_days_past_week', palette=colors)\n",
    "plt.title('Total Number of Days of Interaction in the Past Week per Group')\n",
    "plt.xlabel('Group')\n",
    "plt.ylabel('Total Number of Days of Interaction in the Past Week')\n",
    "plt.show()"
   ]
  }
 ],
 "metadata": {
  "kernelspec": {
   "display_name": "chatbot-test",
   "language": "python",
   "name": "python3"
  },
  "language_info": {
   "codemirror_mode": {
    "name": "ipython",
    "version": 3
   },
   "file_extension": ".py",
   "mimetype": "text/x-python",
   "name": "python",
   "nbconvert_exporter": "python",
   "pygments_lexer": "ipython3",
   "version": "3.8.19"
  }
 },
 "nbformat": 4,
 "nbformat_minor": 2
}
